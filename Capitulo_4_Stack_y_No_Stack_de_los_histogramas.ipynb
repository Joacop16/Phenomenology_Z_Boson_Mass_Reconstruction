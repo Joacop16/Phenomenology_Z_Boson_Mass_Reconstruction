{
 "cells": [
  {
   "cell_type": "markdown",
   "id": "3c9a596c-ee99-413f-bf54-c4d61736cb0d",
   "metadata": {},
   "source": [
    "$$\\textrm{Joaquin Peñuela Parra}$$\n",
    "$$\\textrm{Universidad de los Andes}$$\n",
    "$$\\textrm{Grupo de Física de Altas Energías: Fenomenología de Partículas}$$\n",
    "\n",
    "$\\textbf{Preliminares}$ \n",
    "\n",
    "Las librerías que se usan en este capítulo son las siguientes: "
   ]
  },
  {
   "cell_type": "code",
   "execution_count": 1,
   "id": "28c1f698-bb27-4c9a-be8c-c6f51fa45226",
   "metadata": {},
   "outputs": [
    {
     "name": "stdout",
     "output_type": "stream",
     "text": [
      "Welcome to JupyROOT 6.26/06\n"
     ]
    }
   ],
   "source": [
    "import os, sys\n",
    "\n",
    "Path_Tutorials = os.path.dirname(os.path.realpath('Capitulo_4_Stack_y_No_Stack_de_los_histogramas.ipynb'))\n",
    "Path_Pheno_BSM = os.path.dirname(Path_Tutorials)\n",
    "sys.path.append(Path_Pheno_BSM)\n",
    "\n",
    "from ROOT import TH1F #Permite graficar los histogramas usando ROOT\n",
    "from ROOT import TCanvas #Permite poner los histogramas\n",
    "from ROOT import TFile #Permite guardar y leer los histogramas en un archivo .root\n",
    "from ROOT import THStack #Permite graficar varios histogramas al mismo tiempo\n",
    "from ROOT import TLegend #Permite poner legends cuando se sobrelapan histogramas\n",
    "\n",
    "from delphes_reader import DelphesLoader \n",
    "import pandas as pd\n",
    "import numpy as np\n",
    "\n",
    "from IPython.display import clear_output #Permite limpiar la línea del output para que no se imprima nada (es algo estético que se usa a veces) \n",
    "import nbimporter #Permite importar otros notebooks y usar sus funciones\n",
    "personal_folder = f'{Path_Pheno_BSM}/Tutorials'"
   ]
  },
  {
   "cell_type": "markdown",
   "id": "dcf51971-e94b-4936-908c-bffbb3f56cc4",
   "metadata": {},
   "source": [
    "En este capítulo se utilizan la lista signals y el directorio XS por esto es necesario volverlos a definir para no tener inconvenientes:"
   ]
  },
  {
   "cell_type": "code",
   "execution_count": 2,
   "id": "9c93852b-3f8e-48bf-bae2-aaeb2e04c4a1",
   "metadata": {
    "tags": []
   },
   "outputs": [],
   "source": [
    "#Definamos una lista con las señales y un directorio para guardar las secciones eficaces:\n",
    "\n",
    "signals = [\"z\", \"w_jets\", \"ww\", \"wz\", \"zz\", \"ttbar\", \"stop\"]\n",
    "XS = {}\n",
    "\n",
    "#XS de señal:\n",
    "tabla_ij = pd.read_html(f'{personal_folder}/Data_Z/crossx.html')\n",
    "columna_xs = tabla_ij[0]['Cross section (pb)']\n",
    "XS['z'] = float(columna_xs[0].split(' ')[0])    \n",
    "\n",
    "#XS de backgrounds:\n",
    "BKGs = [\"w_jets\", \"ww\", \"wz\", \"zz\", \"ttbar\", \"stop\"]\n",
    "\n",
    "for BKG in BKGs:\n",
    "    Delphes_Process = DelphesLoader(BKG) #Se crea un objeto de la clase DelphesLoader correspondiente al proceso BKG\n",
    "    XS[BKG] = float(Delphes_Process.xs) #Extrae la sección eficaz del BKG -  esta en pb\n",
    "clear_output(wait=False)"
   ]
  },
  {
   "cell_type": "code",
   "execution_count": 3,
   "id": "f2770a13-c14a-4c13-b0b1-43539eedbf32",
   "metadata": {},
   "outputs": [],
   "source": [
    "#Importemos las funciones Eficiencia y Luminosidad del capitulo 3\n",
    "from Capitulo_3_Guardado_de_los_histogramas_en_un_archivo_root import Eficiencia \n",
    "from Capitulo_3_Guardado_de_los_histogramas_en_un_archivo_root import Luminosidad"
   ]
  },
  {
   "cell_type": "markdown",
   "id": "77c17174-5b7a-4456-8912-45970f718533",
   "metadata": {},
   "source": [
    "$\\textbf{Lectura del archivo.root con los histogramas}$ \n",
    "\n",
    "El objetivo aquí es reconstruir los directorios que teníamos antes con los histogramas extrayendo todo del archivo .root, hagámoslo primero con el archivo ejemplo.root que es más sencillo: "
   ]
  },
  {
   "cell_type": "code",
   "execution_count": 4,
   "id": "fbe2dc30-7ccf-4d8f-8520-2fb2a4e90aa0",
   "metadata": {},
   "outputs": [],
   "source": [
    "rootFile = TFile.Open('ejemplo.root', 'READ') #Lee el archivo .root\n",
    "directorio = rootFile.GetDirectory('carpeta') #Busca la carpeta llamada carpeta\n",
    "histograma = directorio.Get(\"Histograma\") #Buscar el archivo llamado Histograma (así lo llamamos arriba) dentro del directorio\n",
    "histograma.SetDirectory(0) #Desliga el histograma del archivo.root, si no se pone esto entonces al cerrar el archivo .root la información del hsitograma se pierde\n",
    "rootFile.Close() #Se cierra el archivo.root"
   ]
  },
  {
   "cell_type": "markdown",
   "id": "23580002-e5a0-47eb-9251-d190eb9f0d9b",
   "metadata": {},
   "source": [
    "Gracias a que usamos histograma.SetDirectory(0) es posible acceder al histograma después de cerrar ejemplo.root, hagámoslo: "
   ]
  },
  {
   "cell_type": "code",
   "execution_count": 5,
   "id": "bc3059c3-0d6a-4242-bb92-752b23724462",
   "metadata": {},
   "outputs": [
    {
     "data": {
      "image/png": "[encoded data removed]",
      "text/plain": [
       "<IPython.core.display.Image object>"
      ]
     },
     "metadata": {},
     "output_type": "display_data"
    }
   ],
   "source": [
    "canvas = TCanvas(\"Canvas\", \" \", 600, 400)\n",
    "histograma.Draw('hist')\n",
    "canvas.Draw()"
   ]
  },
  {
   "cell_type": "markdown",
   "id": "c80a99aa-60b4-4dae-85cf-15db8f18f96d",
   "metadata": {},
   "source": [
    "Ahora podemos complificar este razonamiento para recuperar los diccionarios con histogramas que teníamos antes, para esto primero definámoslos:"
   ]
  },
  {
   "cell_type": "code",
   "execution_count": 6,
   "id": "ac0a304a-0626-413a-bc22-a1773f5bc0ee",
   "metadata": {},
   "outputs": [],
   "source": [
    "histogramas_muon0 = {}\n",
    "histogramas_muon1 = {}\n",
    "histogramas_correlation = {}\n",
    "histogramas_Z = {}\n",
    "histogramas = {}"
   ]
  },
  {
   "cell_type": "markdown",
   "id": "52f61176-9f5d-4850-91ac-139dcbe109a2",
   "metadata": {},
   "source": [
    "Ahora llenémoslos leyendo el archivo Histogramas.root, notemos que para esto se necesitaría conocer el nombre de las subcarpetas y todo, para esto basta uno abrirlos con TBrowser, anotar los nombres y pensar en una forma de acceder a ellos, eso es lo más real, en el caso del tutorial se podría tratar de usar las keys de algunos DataSets creados en otros capítulos ya que concordarían gracias a la manera en que está escrito el código; sin embargo, tratemos de hacerlo real. \n",
    "\n",
    "Simplemente habría que escribir los nombres de las variables cinemáticas para cada carpeta del archivo.root "
   ]
  },
  {
   "cell_type": "code",
   "execution_count": 7,
   "id": "e9410964-ea78-4f48-9a01-a862b3d217e3",
   "metadata": {},
   "outputs": [],
   "source": [
    "Cinematica_Z = ['pT_{Z}(GeV)', '#eta_{Z}', '#phi_{Z}', 'Energy_{Z}(GeV)','Mass_{Z}(GeV)']\n",
    "Cinematica_muons = ['pT_{#mu}(GeV)', '#eta_{#mu}', '#phi_{#mu}', 'Energy_{#mu}(GeV)','Mass_{#mu}(GeV)']\n",
    "Cinematica_correlation = ['pT_{#mu}(GeV)', '#eta_{#mu}', '#phi_{#mu}', 'Energy_{#mu}(GeV)', 'Mass_{#mu}(GeV)', '#Delta{R}_{#mu#mu}', '#Delta{#eta}_{#mu#mu}','#Delta{#phi}_{#mu#mu}', '#Delta{pT}_{#mu#mu}(GeV)','#Delta{#vec{pT}}_{#mu#mu}(GeV)', '#Delta{#vec{p}}_{#mu#mu}(GeV)']\n"
   ]
  },
  {
   "cell_type": "markdown",
   "id": "8d69f1c2-dfa6-4d77-b337-e7743f5663b2",
   "metadata": {},
   "source": [
    "Ese es el razonamiento que se aplicará para buscar los histogramas dentro del archivo .root, dicho esto, ahora si leámoslo y llenemos los diccionarios: "
   ]
  },
  {
   "cell_type": "code",
   "execution_count": 8,
   "id": "db5ba900-6383-463a-816d-9695bb8495ab",
   "metadata": {},
   "outputs": [],
   "source": [
    "def Read_ROOT_File(nombre, carpeta, Dict_Histogramas, Variables_Cinematicas, signals):\n",
    "\n",
    "    #nombre: es el nombre del archivo.root que queremos leer\n",
    "    #carpeta: es el nombre de la carpeta del archivo.root que queremos leer\n",
    "    #signals: Arreglo con los nombres de las subcarpetas que queremos leer, en este caso corresponden a los keys de Paths\n",
    "    #Variables_Cinematicas: Son los nombres de los histogramas\n",
    "    \n",
    "    ROOT_File = TFile.Open(nombre, 'READ') #Lee el archivo .root\n",
    "    dir_carpeta = ROOT_File.GetDirectory(carpeta) #Busca la carpeta llamada carpeta\n",
    "    \n",
    "    for signal in signals:\n",
    "        dir_signal = dir_carpeta.GetDirectory(signal)\n",
    "        histogramas_signal = {} #Directorio para guaradr los histogramas de una señal\n",
    "\n",
    "        for hist_name in Variables_Cinematicas:\n",
    "            histograma = dir_signal.Get(hist_name) #Se extrae el histograma\n",
    "\n",
    "            if histograma: #Solo se corre si el histograma existe, esto es importante debido a que hay señales que pueden no tener algun histograma y sino la siguiente linea provocará un error\n",
    "                histograma.SetDirectory(0) #Desliga el histograma del archivo.root, si no se pone esto entonces al cerrar el archivo .root la información del hsitograma se pierde\n",
    "                histogramas_signal[hist_name] = histograma #Se añade el histograma al diccionario temporal de la señal dada\n",
    "\n",
    "        Dict_Histogramas[signal] = histogramas_signal #Se actualiza el diccionario principal\n",
    "    ROOT_File.Close() #Se cierra el archivo.root"
   ]
  },
  {
   "cell_type": "markdown",
   "id": "6d4b5783-16ea-4892-a0e5-2740f76e395d",
   "metadata": {},
   "source": [
    "Cabe resaltar que uno podría escribir una función que requiriera menos parámetros utilizando todas las keys de los diccionarios que hemos definido en este tutorial; sin embargo, la idea es que este código se pueda pensar en aplicar a otros archivos.root que pueden tener otra estructura. En la realidad lo que se haría sería abrir el archivo.root usando TBrowser y explorarlo un poco, luego usar este método para extraer la carpeta, subcarpetas e histogramas que a uno le interesen. "
   ]
  },
  {
   "cell_type": "code",
   "execution_count": 9,
   "id": "3d3e7a35-21c0-4dd4-97e7-e9e612443159",
   "metadata": {},
   "outputs": [],
   "source": [
    "Read_ROOT_File('Histogramas.root', 'muon0', histogramas_muon0, Cinematica_muons, signals)\n",
    "Read_ROOT_File('Histogramas.root', 'muon1', histogramas_muon1, Cinematica_muons, signals)\n",
    "Read_ROOT_File('Histogramas.root', 'correlation', histogramas_correlation, Cinematica_correlation, signals)\n",
    "Read_ROOT_File('Histogramas.root', 'Z', histogramas_Z, Cinematica_Z, signals)\n",
    "\n",
    "histogramas = {'muon0': histogramas_muon0, 'muon1': histogramas_muon1, 'correlation': histogramas_correlation, 'Z': histogramas_Z}"
   ]
  },
  {
   "cell_type": "markdown",
   "id": "97a0e0ce-3f24-4da2-b1be-6923cb7e1897",
   "metadata": {},
   "source": [
    "Veamos que efectivamente se recupera lo que teníamos antes:"
   ]
  },
  {
   "cell_type": "code",
   "execution_count": 10,
   "id": "5c6d5b90-9b36-426f-831c-cffee9de4373",
   "metadata": {
    "tags": []
   },
   "outputs": [
    {
     "data": {
      "text/plain": [
       "{'muon0': {'z': {'pT_{#mu}(GeV)': <cppyy.gbl.TH1F object at 0x562f6b9242f0>,\n",
       "   '#eta_{#mu}': <cppyy.gbl.TH1F object at 0x562f6b923aa0>,\n",
       "   '#phi_{#mu}': <cppyy.gbl.TH1F object at 0x562f6b9236b0>,\n",
       "   'Energy_{#mu}(GeV)': <cppyy.gbl.TH1F object at 0x562f6c279830>,\n",
       "   'Mass_{#mu}(GeV)': <cppyy.gbl.TH1F object at 0x562f6c24c9c0>},\n",
       "  'w_jets': {'pT_{#mu}(GeV)': <cppyy.gbl.TH1F object at 0x562f6c253fb0>,\n",
       "   '#eta_{#mu}': <cppyy.gbl.TH1F object at 0x562f6c267480>,\n",
       "   '#phi_{#mu}': <cppyy.gbl.TH1F object at 0x562f6c2d5490>,\n",
       "   'Energy_{#mu}(GeV)': <cppyy.gbl.TH1F object at 0x562f6c2f2600>,\n",
       "   'Mass_{#mu}(GeV)': <cppyy.gbl.TH1F object at 0x562f6c2c37c0>},\n",
       "  'ww': {'pT_{#mu}(GeV)': <cppyy.gbl.TH1F object at 0x562f6c2d8220>,\n",
       "   '#eta_{#mu}': <cppyy.gbl.TH1F object at 0x562f6c2d2790>,\n",
       "   '#phi_{#mu}': <cppyy.gbl.TH1F object at 0x562f6c2713e0>,\n",
       "   'Energy_{#mu}(GeV)': <cppyy.gbl.TH1F object at 0x562f6c2d4d00>,\n",
       "   'Mass_{#mu}(GeV)': <cppyy.gbl.TH1F object at 0x562f6c2d2ce0>},\n",
       "  'wz': {'pT_{#mu}(GeV)': <cppyy.gbl.TH1F object at 0x562f64504980>,\n",
       "   '#eta_{#mu}': <cppyy.gbl.TH1F object at 0x562f64504de0>,\n",
       "   '#phi_{#mu}': <cppyy.gbl.TH1F object at 0x562f6c26c050>,\n",
       "   'Energy_{#mu}(GeV)': <cppyy.gbl.TH1F object at 0x562f6c26bc60>,\n",
       "   'Mass_{#mu}(GeV)': <cppyy.gbl.TH1F object at 0x562f6c2d7960>},\n",
       "  'zz': {'pT_{#mu}(GeV)': <cppyy.gbl.TH1F object at 0x562f6c278360>,\n",
       "   '#eta_{#mu}': <cppyy.gbl.TH1F object at 0x562f6c2ba880>,\n",
       "   '#phi_{#mu}': <cppyy.gbl.TH1F object at 0x562f6c2d3d40>,\n",
       "   'Energy_{#mu}(GeV)': <cppyy.gbl.TH1F object at 0x562f6c2d3920>,\n",
       "   'Mass_{#mu}(GeV)': <cppyy.gbl.TH1F object at 0x562f6c268400>},\n",
       "  'ttbar': {'pT_{#mu}(GeV)': <cppyy.gbl.TH1F object at 0x562f6c26aba0>,\n",
       "   '#eta_{#mu}': <cppyy.gbl.TH1F object at 0x562f6c26b000>,\n",
       "   '#phi_{#mu}': <cppyy.gbl.TH1F object at 0x562f6c269ee0>,\n",
       "   'Energy_{#mu}(GeV)': <cppyy.gbl.TH1F object at 0x562f6c269af0>,\n",
       "   'Mass_{#mu}(GeV)': <cppyy.gbl.TH1F object at 0x562f6c2c47d0>},\n",
       "  'stop': {'pT_{#mu}(GeV)': <cppyy.gbl.TH1F object at 0x562f6c2f35f0>,\n",
       "   '#eta_{#mu}': <cppyy.gbl.TH1F object at 0x562f6c2f3110>,\n",
       "   '#phi_{#mu}': <cppyy.gbl.TH1F object at 0x562f6c2c3d70>,\n",
       "   'Energy_{#mu}(GeV)': <cppyy.gbl.TH1F object at 0x562f6c2c4160>,\n",
       "   'Mass_{#mu}(GeV)': <cppyy.gbl.TH1F object at 0x562f6c2f3a50>}},\n",
       " 'muon1': {'z': {'pT_{#mu}(GeV)': <cppyy.gbl.TH1F object at 0x562f6c267f20>,\n",
       "   '#eta_{#mu}': <cppyy.gbl.TH1F object at 0x562f6c2d4130>,\n",
       "   '#phi_{#mu}': <cppyy.gbl.TH1F object at 0x562f6c270800>,\n",
       "   'Energy_{#mu}(GeV)': <cppyy.gbl.TH1F object at 0x562f6c26b3f0>,\n",
       "   'Mass_{#mu}(GeV)': <cppyy.gbl.TH1F object at 0x562f6c2d5960>},\n",
       "  'w_jets': {'pT_{#mu}(GeV)': <cppyy.gbl.TH1F object at 0x562f6c2d62a0>,\n",
       "   '#eta_{#mu}': <cppyy.gbl.TH1F object at 0x562f6c26f850>,\n",
       "   '#phi_{#mu}': <cppyy.gbl.TH1F object at 0x562f6c2d6700>,\n",
       "   'Energy_{#mu}(GeV)': <cppyy.gbl.TH1F object at 0x562f6c26fc40>,\n",
       "   'Mass_{#mu}(GeV)': <cppyy.gbl.TH1F object at 0x562f6c2ec3e0>},\n",
       "  'ww': {'pT_{#mu}(GeV)': <cppyy.gbl.TH1F object at 0x562f6c2ecd20>,\n",
       "   '#eta_{#mu}': <cppyy.gbl.TH1F object at 0x562f6c2d7160>,\n",
       "   '#phi_{#mu}': <cppyy.gbl.TH1F object at 0x562f6c2e4d20>,\n",
       "   'Energy_{#mu}(GeV)': <cppyy.gbl.TH1F object at 0x562f6c2e4930>,\n",
       "   'Mass_{#mu}(GeV)': <cppyy.gbl.TH1F object at 0x562f6c2e5e00>},\n",
       "  'wz': {'pT_{#mu}(GeV)': <cppyy.gbl.TH1F object at 0x562f6c2e6e20>,\n",
       "   '#eta_{#mu}': <cppyy.gbl.TH1F object at 0x562f6c2e61f0>,\n",
       "   '#phi_{#mu}': <cppyy.gbl.TH1F object at 0x562f6c2eef40>,\n",
       "   'Energy_{#mu}(GeV)': <cppyy.gbl.TH1F object at 0x562f6c2eeb20>,\n",
       "   'Mass_{#mu}(GeV)': <cppyy.gbl.TH1F object at 0x562f6c2e65e0>},\n",
       "  'zz': {'pT_{#mu}(GeV)': <cppyy.gbl.TH1F object at 0x562f6c2f03e0>,\n",
       "   '#eta_{#mu}': <cppyy.gbl.TH1F object at 0x562f6c2f0e90>,\n",
       "   '#phi_{#mu}': <cppyy.gbl.TH1F object at 0x562f6c2ef7a0>,\n",
       "   'Energy_{#mu}(GeV)': <cppyy.gbl.TH1F object at 0x562f6c2eff70>,\n",
       "   'Mass_{#mu}(GeV)': <cppyy.gbl.TH1F object at 0x562f6c2f1560>},\n",
       "  'ttbar': {'pT_{#mu}(GeV)': <cppyy.gbl.TH1F object at 0x562f6c2d9d60>,\n",
       "   '#eta_{#mu}': <cppyy.gbl.TH1F object at 0x562f6c2d90f0>,\n",
       "   '#phi_{#mu}': <cppyy.gbl.TH1F object at 0x562f6c2da7d0>,\n",
       "   'Energy_{#mu}(GeV)': <cppyy.gbl.TH1F object at 0x562f6c2d94e0>,\n",
       "   'Mass_{#mu}(GeV)': <cppyy.gbl.TH1F object at 0x562f6c2db620>},\n",
       "  'stop': {'pT_{#mu}(GeV)': <cppyy.gbl.TH1F object at 0x562f6c2c6010>,\n",
       "   '#eta_{#mu}': <cppyy.gbl.TH1F object at 0x562f6c2c5490>,\n",
       "   '#phi_{#mu}': <cppyy.gbl.TH1F object at 0x562f6c2c6a80>,\n",
       "   'Energy_{#mu}(GeV)': <cppyy.gbl.TH1F object at 0x562f6c2c59d0>,\n",
       "   'Mass_{#mu}(GeV)': <cppyy.gbl.TH1F object at 0x562f6c2c7c70>}},\n",
       " 'correlation': {'z': {'pT_{#mu}(GeV)': <cppyy.gbl.TH1F object at 0x562f6c2dc600>,\n",
       "   '#eta_{#mu}': <cppyy.gbl.TH1F object at 0x562f6c2c8bf0>,\n",
       "   '#phi_{#mu}': <cppyy.gbl.TH1F object at 0x562f6c266890>,\n",
       "   'Energy_{#mu}(GeV)': <cppyy.gbl.TH1F object at 0x562f6c2dace0>,\n",
       "   'Mass_{#mu}(GeV)': <cppyy.gbl.TH1F object at 0x562f6c265f60>,\n",
       "   '#Delta{R}_{#mu#mu}': <cppyy.gbl.TH1F object at 0x562f6c2c9530>,\n",
       "   '#Delta{#eta}_{#mu#mu}': <cppyy.gbl.TH1F object at 0x562f6c2c9920>,\n",
       "   '#Delta{#phi}_{#mu#mu}': <cppyy.gbl.TH1F object at 0x562f6c2c7210>,\n",
       "   '#Delta{pT}_{#mu#mu}(GeV)': <cppyy.gbl.TH1F object at 0x562f6c2c7600>,\n",
       "   '#Delta{#vec{pT}}_{#mu#mu}(GeV)': <cppyy.gbl.TH1F object at 0x562f6c2d13d0>,\n",
       "   '#Delta{#vec{p}}_{#mu#mu}(GeV)': <cppyy.gbl.TH1F object at 0x562f6c2d17c0>},\n",
       "  'w_jets': {'pT_{#mu}(GeV)': <cppyy.gbl.TH1F object at 0x562f6c2d04d0>,\n",
       "   '#eta_{#mu}': <cppyy.gbl.TH1F object at 0x562f6c2ccfb0>,\n",
       "   '#phi_{#mu}': <cppyy.gbl.TH1F object at 0x562f6c2ce220>,\n",
       "   'Energy_{#mu}(GeV)': <cppyy.gbl.TH1F object at 0x562f6c2cdca0>,\n",
       "   'Mass_{#mu}(GeV)': <cppyy.gbl.TH1F object at 0x562f6c2cf070>,\n",
       "   '#Delta{R}_{#mu#mu}': <cppyy.gbl.TH1F object at 0x562f6c2ce610>,\n",
       "   '#Delta{#eta}_{#mu#mu}': <cppyy.gbl.TH1F object at 0x562f6c2cea00>,\n",
       "   '#Delta{#phi}_{#mu#mu}': <cppyy.gbl.TH1F object at 0x562f6c262e20>,\n",
       "   '#Delta{pT}_{#mu#mu}(GeV)': <cppyy.gbl.TH1F object at 0x562f6c263490>,\n",
       "   '#Delta{#vec{pT}}_{#mu#mu}(GeV)': <cppyy.gbl.TH1F object at 0x562f6c263e30>,\n",
       "   '#Delta{#vec{p}}_{#mu#mu}(GeV)': <cppyy.gbl.TH1F object at 0x562f6c2e3b20>},\n",
       "  'ww': {'pT_{#mu}(GeV)': <cppyy.gbl.TH1F object at 0x562f6c2dde00>,\n",
       "   '#eta_{#mu}': <cppyy.gbl.TH1F object at 0x562f6c265330>,\n",
       "   '#phi_{#mu}': <cppyy.gbl.TH1F object at 0x562f6c2de260>,\n",
       "   'Energy_{#mu}(GeV)': <cppyy.gbl.TH1F object at 0x562f6c2dd6c0>,\n",
       "   'Mass_{#mu}(GeV)': <cppyy.gbl.TH1F object at 0x562f6c2e2380>,\n",
       "   '#Delta{R}_{#mu#mu}': <cppyy.gbl.TH1F object at 0x562f6c2e3000>,\n",
       "   '#Delta{#eta}_{#mu#mu}': <cppyy.gbl.TH1F object at 0x562f6c2e1920>,\n",
       "   '#Delta{#phi}_{#mu#mu}': <cppyy.gbl.TH1F object at 0x562f6c2de870>,\n",
       "   '#Delta{pT}_{#mu#mu}(GeV)': <cppyy.gbl.TH1F object at 0x562f6c2dedd0>,\n",
       "   '#Delta{#vec{pT}}_{#mu#mu}(GeV)': <cppyy.gbl.TH1F object at 0x562f6c2df750>,\n",
       "   '#Delta{#vec{p}}_{#mu#mu}(GeV)': <cppyy.gbl.TH1F object at 0x562f6c2e0100>},\n",
       "  'wz': {'pT_{#mu}(GeV)': <cppyy.gbl.TH1F object at 0x562f6c2f74f0>,\n",
       "   '#eta_{#mu}': <cppyy.gbl.TH1F object at 0x562f6c2f6880>,\n",
       "   '#phi_{#mu}': <cppyy.gbl.TH1F object at 0x562f6c2faf40>,\n",
       "   'Energy_{#mu}(GeV)': <cppyy.gbl.TH1F object at 0x562f6c2fab50>,\n",
       "   'Mass_{#mu}(GeV)': <cppyy.gbl.TH1F object at 0x562f6c2fbdb0>,\n",
       "   '#Delta{R}_{#mu#mu}': <cppyy.gbl.TH1F object at 0x562f6c2fb350>,\n",
       "   '#Delta{#eta}_{#mu#mu}': <cppyy.gbl.TH1F object at 0x562f6c2fb760>,\n",
       "   '#Delta{#phi}_{#mu#mu}': <cppyy.gbl.TH1F object at 0x562f6c2fdaf0>,\n",
       "   '#Delta{pT}_{#mu#mu}(GeV)': <cppyy.gbl.TH1F object at 0x562f6c2fe020>,\n",
       "   '#Delta{#vec{pT}}_{#mu#mu}(GeV)': <cppyy.gbl.TH1F object at 0x562f6c2fe9a0>,\n",
       "   '#Delta{#vec{p}}_{#mu#mu}(GeV)': <cppyy.gbl.TH1F object at 0x562f6c2ff1d0>},\n",
       "  'zz': {'pT_{#mu}(GeV)': <cppyy.gbl.TH1F object at 0x562f6c3016c0>,\n",
       "   '#eta_{#mu}': <cppyy.gbl.TH1F object at 0x562f6c300a10>,\n",
       "   '#phi_{#mu}': <cppyy.gbl.TH1F object at 0x562f6c302210>,\n",
       "   'Energy_{#mu}(GeV)': <cppyy.gbl.TH1F object at 0x562f6c301df0>,\n",
       "   'Mass_{#mu}(GeV)': <cppyy.gbl.TH1F object at 0x562f6c303080>,\n",
       "   '#Delta{R}_{#mu#mu}': <cppyy.gbl.TH1F object at 0x562f6c303490>,\n",
       "   '#Delta{#eta}_{#mu#mu}': <cppyy.gbl.TH1F object at 0x562f6c2f7950>,\n",
       "   '#Delta{#phi}_{#mu#mu}': <cppyy.gbl.TH1F object at 0x562f6c2f84b0>,\n",
       "   '#Delta{pT}_{#mu#mu}(GeV)': <cppyy.gbl.TH1F object at 0x562f6c2f8a10>,\n",
       "   '#Delta{#vec{pT}}_{#mu#mu}(GeV)': <cppyy.gbl.TH1F object at 0x562f6c2f9330>,\n",
       "   '#Delta{#vec{p}}_{#mu#mu}(GeV)': <cppyy.gbl.TH1F object at 0x562f6c2f9d20>},\n",
       "  'ttbar': {'pT_{#mu}(GeV)': <cppyy.gbl.TH1F object at 0x562f6c308b30>,\n",
       "   '#eta_{#mu}': <cppyy.gbl.TH1F object at 0x562f6c307ed0>,\n",
       "   '#phi_{#mu}': <cppyy.gbl.TH1F object at 0x562f6c309650>,\n",
       "   'Energy_{#mu}(GeV)': <cppyy.gbl.TH1F object at 0x562f6c309260>,\n",
       "   'Mass_{#mu}(GeV)': <cppyy.gbl.TH1F object at 0x562f6c30a4c0>,\n",
       "   '#Delta{R}_{#mu#mu}': <cppyy.gbl.TH1F object at 0x562f6c30a980>,\n",
       "   '#Delta{#eta}_{#mu#mu}': <cppyy.gbl.TH1F object at 0x562f6c309ba0>,\n",
       "   '#Delta{#phi}_{#mu#mu}': <cppyy.gbl.TH1F object at 0x562f6c30ca40>,\n",
       "   '#Delta{pT}_{#mu#mu}(GeV)': <cppyy.gbl.TH1F object at 0x562f6c30cf20>,\n",
       "   '#Delta{#vec{pT}}_{#mu#mu}(GeV)': <cppyy.gbl.TH1F object at 0x562f6c30d8f0>,\n",
       "   '#Delta{#vec{p}}_{#mu#mu}(GeV)': <cppyy.gbl.TH1F object at 0x562f6c30dd00>},\n",
       "  'stop': {'pT_{#mu}(GeV)': <cppyy.gbl.TH1F object at 0x562f6c310580>,\n",
       "   '#eta_{#mu}': <cppyy.gbl.TH1F object at 0x562f6c30f9a0>,\n",
       "   '#phi_{#mu}': <cppyy.gbl.TH1F object at 0x562f6c310cb0>,\n",
       "   'Energy_{#mu}(GeV)': <cppyy.gbl.TH1F object at 0x562f6c30ff00>,\n",
       "   'Mass_{#mu}(GeV)': <cppyy.gbl.TH1F object at 0x562f6c311c60>,\n",
       "   '#Delta{R}_{#mu#mu}': <cppyy.gbl.TH1F object at 0x562f6c311200>,\n",
       "   '#Delta{#eta}_{#mu#mu}': <cppyy.gbl.TH1F object at 0x562f6c311860>,\n",
       "   '#Delta{#phi}_{#mu#mu}': <cppyy.gbl.TH1F object at 0x562f6c314050>,\n",
       "   '#Delta{pT}_{#mu#mu}(GeV)': <cppyy.gbl.TH1F object at 0x562f6c314550>,\n",
       "   '#Delta{#vec{pT}}_{#mu#mu}(GeV)': <cppyy.gbl.TH1F object at 0x562f6c314f10>,\n",
       "   '#Delta{#vec{p}}_{#mu#mu}(GeV)': <cppyy.gbl.TH1F object at 0x562f6c315920>}},\n",
       " 'Z': {'z': {'pT_{Z}(GeV)': <cppyy.gbl.TH1F object at 0x562f6c315500>,\n",
       "   '#eta_{Z}': <cppyy.gbl.TH1F object at 0x562f6c2cfee0>,\n",
       "   '#phi_{Z}': <cppyy.gbl.TH1F object at 0x562f6c2e4470>,\n",
       "   'Energy_{Z}(GeV)': <cppyy.gbl.TH1F object at 0x562f6c30ee50>,\n",
       "   'Mass_{Z}(GeV)': <cppyy.gbl.TH1F object at 0x562f6c2e0ee0>},\n",
       "  'w_jets': {'pT_{Z}(GeV)': <cppyy.gbl.TH1F object at 0x562f6c2d1bb0>,\n",
       "   '#eta_{Z}': <cppyy.gbl.TH1F object at 0x562f6c2ff6e0>,\n",
       "   '#phi_{Z}': <cppyy.gbl.TH1F object at 0x562f6c30e470>,\n",
       "   'Energy_{Z}(GeV)': <cppyy.gbl.TH1F object at 0x562f6c2e0510>,\n",
       "   'Mass_{Z}(GeV)': <cppyy.gbl.TH1F object at 0x562f6c2fc6a0>},\n",
       "  'ww': {'pT_{Z}(GeV)': <cppyy.gbl.TH1F object at 0x562f6c316460>,\n",
       "   '#eta_{Z}': <cppyy.gbl.TH1F object at 0x562f6c2fcfe0>,\n",
       "   '#phi_{Z}': <cppyy.gbl.TH1F object at 0x562f6c306cf0>,\n",
       "   'Energy_{Z}(GeV)': <cppyy.gbl.TH1F object at 0x562f6c3074a0>,\n",
       "   'Mass_{Z}(GeV)': <cppyy.gbl.TH1F object at 0x562f6c3135f0>},\n",
       "  'wz': {'pT_{Z}(GeV)': <cppyy.gbl.TH1F object at 0x562f6c30b500>,\n",
       "   '#eta_{Z}': <cppyy.gbl.TH1F object at 0x562f6c30bfb0>,\n",
       "   '#phi_{Z}': <cppyy.gbl.TH1F object at 0x562f6c313180>,\n",
       "   'Energy_{Z}(GeV)': <cppyy.gbl.TH1F object at 0x562f6c312d90>,\n",
       "   'Mass_{Z}(GeV)': <cppyy.gbl.TH1F object at 0x562f6c30b0f0>},\n",
       "  'zz': {'pT_{Z}(GeV)': <cppyy.gbl.TH1F object at 0x562f6c304830>,\n",
       "   '#eta_{Z}': <cppyy.gbl.TH1F object at 0x562f6c303af0>,\n",
       "   '#phi_{Z}': <cppyy.gbl.TH1F object at 0x562f6c3056f0>,\n",
       "   'Energy_{Z}(GeV)': <cppyy.gbl.TH1F object at 0x562f6c3052c0>,\n",
       "   'Mass_{Z}(GeV)': <cppyy.gbl.TH1F object at 0x562f6c3065d0>},\n",
       "  'ttbar': {'pT_{Z}(GeV)': <cppyy.gbl.TH1F object at 0x562f6c31be30>,\n",
       "   '#eta_{Z}': <cppyy.gbl.TH1F object at 0x562f6c31c8e0>,\n",
       "   '#phi_{Z}': <cppyy.gbl.TH1F object at 0x562f6c31b690>,\n",
       "   'Energy_{Z}(GeV)': <cppyy.gbl.TH1F object at 0x562f6c31b110>,\n",
       "   'Mass_{Z}(GeV)': <cppyy.gbl.TH1F object at 0x562f6c318150>},\n",
       "  'stop': {'pT_{Z}(GeV)': <cppyy.gbl.TH1F object at 0x562f6c3805c0>,\n",
       "   '#eta_{Z}': <cppyy.gbl.TH1F object at 0x562f6c317260>,\n",
       "   '#phi_{Z}': <cppyy.gbl.TH1F object at 0x562f6c3809b0>,\n",
       "   'Energy_{Z}(GeV)': <cppyy.gbl.TH1F object at 0x562f6c3177c0>,\n",
       "   'Mass_{Z}(GeV)': <cppyy.gbl.TH1F object at 0x562f6c385150>}}}"
      ]
     },
     "execution_count": 10,
     "metadata": {},
     "output_type": "execute_result"
    }
   ],
   "source": [
    "histogramas"
   ]
  },
  {
   "cell_type": "markdown",
   "id": "bd04f318-5265-4685-aa74-0d7c0ecb1852",
   "metadata": {},
   "source": [
    "Nuevamente pensemos en graficar ETA del muon1 en la señal WW, a ver si recuperamos la grafica que hicimos en el capítulo anterior."
   ]
  },
  {
   "cell_type": "code",
   "execution_count": 11,
   "id": "7cbe6313-87e4-4cca-909a-c99b0a3d17b9",
   "metadata": {},
   "outputs": [
    {
     "data": {
      "image/png": "[encoded data removed]",
      "text/plain": [
       "<IPython.core.display.Image object>"
      ]
     },
     "metadata": {},
     "output_type": "display_data"
    }
   ],
   "source": [
    "histogramas['muon1']['ww']['#eta_{#mu}'].Draw('hist')\n",
    "canvas.Draw()"
   ]
  },
  {
   "cell_type": "markdown",
   "id": "cce35e8b-682d-4039-8f9e-8e5c81d4d598",
   "metadata": {},
   "source": [
    "$\\textbf{Comparación y Stack de los Histogramas}$\n",
    "\n",
    "Normalmente para sobrelapar dos histogramas se puede hacer lo siguiente:"
   ]
  },
  {
   "cell_type": "code",
   "execution_count": 12,
   "id": "3cb7d36a-e386-4706-81ac-5f34ba0fc1dc",
   "metadata": {},
   "outputs": [
    {
     "data": {
      "image/png": "[encoded data removed]",
      "text/plain": [
       "<IPython.core.display.Image object>"
      ]
     },
     "metadata": {},
     "output_type": "display_data"
    }
   ],
   "source": [
    "histo1 = histogramas['muon1']['ww']['#eta_{#mu}']\n",
    "histo2 = histogramas['muon1']['ttbar']['#eta_{#mu}']\n",
    "histo1.SetLineColor(1)\n",
    "histo1.SetFillColorAlpha(1, 0.05)\n",
    "\n",
    "histo2.SetLineColor(2)\n",
    "histo2.SetFillColorAlpha(2, 0.05)\n",
    "\n",
    "hs = THStack(\"Titulo\", 'Titulo')\n",
    "hs.Add(histo1)\n",
    "hs.Add(histo2)\n",
    "\n",
    "hs.SetTitle('Titulo; #eta_{#mu}; Eventos')\n",
    "hs.Draw('histnostack')\n",
    "\n",
    "canvas.Draw()"
   ]
  },
  {
   "cell_type": "markdown",
   "id": "02a7af67-6d8e-41c8-b3e2-25164fbc29f5",
   "metadata": {},
   "source": [
    "Con eso en mente se puede construir la siguiente función para facilitarnos el trabajo sobre lo que queremos graficar:"
   ]
  },
  {
   "cell_type": "code",
   "execution_count": 13,
   "id": "e89ccfae-2939-49b8-b195-3c7e5fe5cfbb",
   "metadata": {
    "tags": []
   },
   "outputs": [],
   "source": [
    "def Overlap_Histos(Particle, Cinematic_Variable, Histogramas, signals, XS, Path_CSV,\n",
    "                   main_signal = 'z',ignorar = '', alpha = 0.05, Stack = False, \n",
    "                   Log = False, Grid = False, cortes_extra = False,):\n",
    "    \n",
    "    #Si Stack es False -> Se normaliza por unidad de area\n",
    "    #Si Stack es True -> Se normaliza según el número de eventos\n",
    "    \n",
    "    canvas = TCanvas(Particle+Cinematic_Variable, \" \", 600, 400)\n",
    "    legend = TLegend(.8,.5,.9,.89)\n",
    "\n",
    "    Histos = THStack('hist', Particle)\n",
    "    \n",
    "    signals.sort()\n",
    "    for i in range(len(signals)):\n",
    "        signal = signals[i]\n",
    "        \n",
    "        if(signal != ignorar and signal != main_signal):\n",
    "        \n",
    "            if (Histogramas[Particle][signal] != {}):\n",
    "                histo = Histogramas[Particle][signal][Cinematic_Variable]\n",
    "                histo.SetLineColor(i+1)\n",
    "                histo.SetFillColorAlpha(i+1, alpha)\n",
    "                histo.SetLineWidth(2)\n",
    "                histo.SetDirectory(0)\n",
    "                Histos.Add(histo)\n",
    "                legend.AddEntry(histo,signal)\n",
    "                legend.SetLineWidth(0)\n",
    "\n",
    "            if (Stack): \n",
    "                N = Eficiencia(signal, Path_CSV, cut_flows_actualizado = cortes_extra)*Luminosidad()*XS[signal]\n",
    "                histo.Scale(N/histo.Integral())\n",
    "\n",
    "            else: histo.Scale(1.0/histo.Integral())\n",
    "    \n",
    "    signal = main_signal\n",
    "    \n",
    "    if (Histogramas[Particle][signal] != {}):\n",
    "        histo = Histogramas[Particle][signal][Cinematic_Variable]\n",
    "        histo.SetLineColor(i+2)\n",
    "        histo.SetFillColorAlpha(i+2, alpha)\n",
    "        histo.SetLineWidth(2)\n",
    "        histo.SetDirectory(0)\n",
    "        Histos.Add(histo)\n",
    "        legend.AddEntry(histo,signal)\n",
    "        legend.SetLineWidth(0)\n",
    "\n",
    "    if (Stack): \n",
    "        N = Eficiencia(signal, Path_CSV, cut_flows_actualizado = cortes_extra)*Luminosidad()*XS[signal]\n",
    "        histo.Scale(N/histo.Integral())\n",
    "\n",
    "    else: histo.Scale(1.0/histo.Integral())\n",
    "    \n",
    "    \n",
    "    if (Stack):\n",
    "        Histos.Draw(\"hist\")\n",
    "        Histos.SetTitle(f'{Particle}; {Cinematic_Variable}; Events')\n",
    "    else:\n",
    "        Histos.Draw(\"histnostack\")\n",
    "        Histos.SetTitle(f'{Particle}; {Cinematic_Variable}; Events (u.a)')\n",
    "    \n",
    "    if Log: \n",
    "        canvas.SetLogy()\n",
    "        Histos.SetMinimum(10)\n",
    "        Histos.SetMaximum(1e8)\n",
    "        \n",
    "    if Grid: canvas.SetGrid()\n",
    "    \n",
    "    canvas.Draw()\n",
    "    legend.Draw('same')\n",
    "    \n",
    "    return Histos, canvas, legend"
   ]
  },
  {
   "cell_type": "markdown",
   "id": "d820826a-4591-451b-a2d7-0853bdbc1ca3",
   "metadata": {},
   "source": [
    "Esta función retorna el arreglo de histogramas listos para graficar, según el que queramos simplemente hay que hacer lo siguiente: "
   ]
  },
  {
   "cell_type": "code",
   "execution_count": 14,
   "id": "38ca4923-0627-413b-85b9-cd59d6c2d662",
   "metadata": {},
   "outputs": [
    {
     "data": {
      "image/png": "[encoded data removed]",
      "text/plain": [
       "<IPython.core.display.Image object>"
      ]
     },
     "metadata": {},
     "output_type": "display_data"
    }
   ],
   "source": [
    "Histos, canvas, legend = Overlap_Histos(\"muon0\", '#eta_{#mu}', histogramas, signals, XS, Path_CSV = personal_folder, \n",
    "                                        Stack = True, ignorar = 'w_jets', alpha = 0.2, Log = True)"
   ]
  },
  {
   "cell_type": "markdown",
   "id": "1fd34a00-1350-455c-86dc-10d7e43d4e03",
   "metadata": {},
   "source": [
    "Intentemoslo para la masa reconstruída del Z con Stack y escala logarítmica:"
   ]
  },
  {
   "cell_type": "code",
   "execution_count": 15,
   "id": "ba9502f2-d81e-4083-9749-505483b06ca2",
   "metadata": {},
   "outputs": [
    {
     "data": {
      "image/png": "[encoded data removed]",
      "text/plain": [
       "<IPython.core.display.Image object>"
      ]
     },
     "metadata": {},
     "output_type": "display_data"
    }
   ],
   "source": [
    "Histos, canvas, legend = Overlap_Histos(\"Z\", 'Mass_{Z}(GeV)', histogramas, signals, XS, Path_CSV = personal_folder,\n",
    "                                        Stack = True, ignorar = 'w_jets', alpha = 0.2, Log = True)\n",
    "#Histos.GetXaxis().SetLimits(66,116) #Ese es el filtro del siguiente capitulo, esta es una forma de aplicarlo simplemente cambiando el rango de los ejes"
   ]
  }
 ],
 "metadata": {
  "kernelspec": {
   "display_name": "Python 3 (ipykernel)",
   "language": "python",
   "name": "python3"
  },
  "language_info": {
   "codemirror_mode": {
    "name": "ipython",
    "version": 3
   },
   "file_extension": ".py",
   "mimetype": "text/x-python",
   "name": "python",
   "nbconvert_exporter": "python",
   "pygments_lexer": "ipython3",
   "version": "3.10.6"
  }
 },
 "nbformat": 4,
 "nbformat_minor": 5
}
