{
 "cells": [
  {
   "cell_type": "markdown",
   "id": "397d2106-824f-4caf-a5dc-e5864236c2ca",
   "metadata": {},
   "source": [
    "$$\\textrm{Joaquin Peñuela Parra}$$\n",
    "$$\\textrm{Universidad de los Andes}$$\n",
    "$$\\textrm{Grupo de Física de Altas Energías: Fenomenología de Partículas}$$\n",
    "\n",
    "$\\textbf{Preliminares}$ \n",
    "\n",
    "Las librerías que se usan en este capítulo son las siguientes: "
   ]
  },
  {
   "cell_type": "code",
   "execution_count": 1,
   "id": "f4bc75ef-563d-4be7-bf56-aa6646161853",
   "metadata": {},
   "outputs": [
    {
     "name": "stdout",
     "output_type": "stream",
     "text": [
      "Cloning into 'Uniandes_Framework'...\n",
      "remote: Enumerating objects: 105, done.\u001b[K\n",
      "remote: Counting objects: 100% (6/6), done.\u001b[K\n",
      "remote: Compressing objects: 100% (5/5), done.\u001b[K\n",
      "remote: Total 105 (delta 0), reused 5 (delta 0), pack-reused 99\u001b[K\n",
      "Receiving objects: 100% (105/105), 136.20 MiB | 2.25 MiB/s, done.\n",
      "Resolving deltas: 100% (12/12), done.\n",
      "Welcome to JupyROOT 6.26/06\n"
     ]
    }
   ],
   "source": [
    "!rm -rf Uniandes_Framework\n",
    "!git clone https://github.com/Phenomenology-group-uniandes/Uniandes_Framework.git\n",
    "\n",
    "import os, sys\n",
    "sys.path.append(f'{os.getcwd()}/Uniandes_Framework')\n",
    "personal_folder = os.getcwd()\n",
    "\n",
    "from delphes_reader import DelphesLoader \n",
    "from delphes_reader import root_analysis\n",
    "\n",
    "from ROOT import TH1F #Permite graficar los histogramas usando ROOT\n",
    "from ROOT import TCanvas #Permite poner los histogramas\n",
    "from ROOT import TFile #Permite guardar y leer los histogramas en un archivo .root\n",
    "\n",
    "import numpy as np\n",
    "import pandas as pd\n",
    "import matplotlib.pyplot as plt\n",
    "\n",
    "from IPython.display import clear_output #Permite limpiar la línea del output para que no se imprima nada (es algo estético que se usa a veces) "
   ]
  },
  {
   "cell_type": "markdown",
   "id": "400de49a-5742-4f09-b31f-59371a94efb6",
   "metadata": {
    "tags": []
   },
   "source": [
    "$\\textbf{Extraer las secciones eficaces}$"
   ]
  },
  {
   "cell_type": "code",
   "execution_count": 2,
   "id": "c45e1042-76e1-45cd-9270-4c6aafc74d54",
   "metadata": {
    "tags": []
   },
   "outputs": [],
   "source": [
    "#Definamos una lista con las señales y un directorio para guardar las secciones eficaces:\n",
    "\n",
    "signals = [\"z\", \"w_jets\", \"ww\", \"wz\", \"zz\", \"ttbar\", \"stop\"]\n",
    "XS = {}\n",
    "\n",
    "#XS de señal:\n",
    "tabla_ij = pd.read_html(f'{personal_folder}/Data_Z/crossx.html')\n",
    "columna_xs = tabla_ij[0]['Cross section (pb)']\n",
    "XS['z'] = float(columna_xs[0].split(' ')[0])    \n",
    "\n",
    "#XS de backgrounds:\n",
    "BKGs = [\"w_jets\", \"ww\", \"wz\", \"zz\", \"ttbar\", \"stop\"]\n",
    "\n",
    "for BKG in BKGs:\n",
    "    Delphes_Process = DelphesLoader(BKG) #Se crea un objeto de la clase DelphesLoader correspondiente al proceso BKG\n",
    "    XS[BKG] = float(Delphes_Process.xs) #Extrae la sección eficaz del BKG -  esta en pb\n",
    "clear_output(wait=False)"
   ]
  },
  {
   "cell_type": "markdown",
   "id": "67b8d990-735e-4568-a114-b4cc9b122038",
   "metadata": {},
   "source": [
    "Así, XS es un directorio con la sección eficaz de cada proceso, esto nos servirá más adelante para normalizar los histogramas según el número de eventos."
   ]
  },
  {
   "cell_type": "code",
   "execution_count": 3,
   "id": "4e33443d-a6fc-4e87-815b-2d9310bb0f6b",
   "metadata": {},
   "outputs": [
    {
     "data": {
      "text/plain": [
       "{'z': 637.2,\n",
       " 'w_jets': 146548.3,\n",
       " 'ww': 65.50736,\n",
       " 'wz': 24.69184,\n",
       " 'zz': 9.562416,\n",
       " 'ttbar': 504.696,\n",
       " 'stop': 241.17}"
      ]
     },
     "execution_count": 3,
     "metadata": {},
     "output_type": "execute_result"
    }
   ],
   "source": [
    "XS #Están en pb"
   ]
  },
  {
   "cell_type": "markdown",
   "id": "b4907aae-90fd-45de-8d05-92cf5cd5a332",
   "metadata": {},
   "source": [
    "$\\textbf{Leer los datos de los archivos .csv}$"
   ]
  },
  {
   "cell_type": "code",
   "execution_count": 4,
   "id": "62fd51e0-53f1-47e0-bf68-f997babac769",
   "metadata": {},
   "outputs": [],
   "source": [
    "Datasets_muon0 = {}\n",
    "Datasets_muon1 = {}\n",
    "Datasets_correlation = {}\n",
    "Datasets_Z = {}\n",
    "\n",
    "for signal in signals:\n",
    "    Datasets_muon0[signal] = pd.read_csv(f'{personal_folder}/CSV_Z_Analisis/Data_muon0/{signal}.csv')\n",
    "    del Datasets_muon0[signal][Datasets_muon0[signal].columns[0]] #Borra una columna de ceros que aparecia sin esto\n",
    "    Datasets_muon1[signal] = pd.read_csv(f'{personal_folder}/CSV_Z_Analisis/Data_muon1/{signal}.csv')\n",
    "    del Datasets_muon1[signal][Datasets_muon1[signal].columns[0]]\n",
    "    Datasets_correlation[signal] = pd.read_csv(f'{personal_folder}/CSV_Z_Analisis/Data_correlation/{signal}.csv')\n",
    "    del Datasets_correlation[signal][Datasets_correlation[signal].columns[0]]\n",
    "    Datasets_Z[signal] = pd.read_csv(f'{personal_folder}/CSV_Z_Analisis/Data_Z/{signal}.csv')\n",
    "    del Datasets_Z[signal][Datasets_Z[signal].columns[0]]\n",
    "\n",
    "cut_flows = pd.read_csv(f'{personal_folder}/CSV_Z_Analisis/cut_flows.csv',index_col = 0)"
   ]
  },
  {
   "cell_type": "markdown",
   "id": "c1c128b4-317b-4b08-b658-905c44657c75",
   "metadata": {},
   "source": [
    "Así, tenemos un diccionario para los datasets de cada señal:"
   ]
  },
  {
   "cell_type": "code",
   "execution_count": 5,
   "id": "a9618781-3ae1-4e1f-bd51-26de4ea6f4d3",
   "metadata": {},
   "outputs": [
    {
     "data": {
      "text/plain": [
       "dict_keys(['z', 'w_jets', 'ww', 'wz', 'zz', 'ttbar', 'stop'])"
      ]
     },
     "execution_count": 5,
     "metadata": {},
     "output_type": "execute_result"
    }
   ],
   "source": [
    "Datasets_muon0.keys() "
   ]
  },
  {
   "cell_type": "markdown",
   "id": "6258991f-6b95-434f-92a3-4cbf88d222e7",
   "metadata": {},
   "source": [
    "Usando esas keys podemos acceder al que necesitemos:\n",
    "\n",
    "**Por ejemplo**:"
   ]
  },
  {
   "cell_type": "code",
   "execution_count": 6,
   "id": "e92e20f7-30ba-4d19-a394-4b31b1e00626",
   "metadata": {},
   "outputs": [
    {
     "data": {
      "text/html": [
       "<div>\n",
       "<style scoped>\n",
       "    .dataframe tbody tr th:only-of-type {\n",
       "        vertical-align: middle;\n",
       "    }\n",
       "\n",
       "    .dataframe tbody tr th {\n",
       "        vertical-align: top;\n",
       "    }\n",
       "\n",
       "    .dataframe thead th {\n",
       "        text-align: right;\n",
       "    }\n",
       "</style>\n",
       "<table border=\"1\" class=\"dataframe\">\n",
       "  <thead>\n",
       "    <tr style=\"text-align: right;\">\n",
       "      <th></th>\n",
       "      <th>pT_{#mu}(GeV)</th>\n",
       "      <th>#eta_{#mu}</th>\n",
       "      <th>#phi_{#mu}</th>\n",
       "      <th>Energy_{#mu}(GeV)</th>\n",
       "      <th>Mass_{#mu}(GeV)</th>\n",
       "    </tr>\n",
       "  </thead>\n",
       "  <tbody>\n",
       "    <tr>\n",
       "      <th>0</th>\n",
       "      <td>41.667759</td>\n",
       "      <td>-1.589091</td>\n",
       "      <td>1.830774</td>\n",
       "      <td>106.323796</td>\n",
       "      <td>0.105658</td>\n",
       "    </tr>\n",
       "    <tr>\n",
       "      <th>1</th>\n",
       "      <td>49.013069</td>\n",
       "      <td>2.201596</td>\n",
       "      <td>3.011407</td>\n",
       "      <td>224.236178</td>\n",
       "      <td>0.105658</td>\n",
       "    </tr>\n",
       "    <tr>\n",
       "      <th>2</th>\n",
       "      <td>48.903419</td>\n",
       "      <td>-0.755841</td>\n",
       "      <td>-1.702463</td>\n",
       "      <td>63.550515</td>\n",
       "      <td>0.105658</td>\n",
       "    </tr>\n",
       "    <tr>\n",
       "      <th>3</th>\n",
       "      <td>40.123135</td>\n",
       "      <td>1.927982</td>\n",
       "      <td>-3.041330</td>\n",
       "      <td>140.853621</td>\n",
       "      <td>0.105658</td>\n",
       "    </tr>\n",
       "    <tr>\n",
       "      <th>4</th>\n",
       "      <td>39.876068</td>\n",
       "      <td>0.629823</td>\n",
       "      <td>-0.791555</td>\n",
       "      <td>48.050070</td>\n",
       "      <td>0.105658</td>\n",
       "    </tr>\n",
       "    <tr>\n",
       "      <th>...</th>\n",
       "      <td>...</td>\n",
       "      <td>...</td>\n",
       "      <td>...</td>\n",
       "      <td>...</td>\n",
       "      <td>...</td>\n",
       "    </tr>\n",
       "    <tr>\n",
       "      <th>183575</th>\n",
       "      <td>62.217964</td>\n",
       "      <td>0.448784</td>\n",
       "      <td>-2.960287</td>\n",
       "      <td>68.589473</td>\n",
       "      <td>0.105658</td>\n",
       "    </tr>\n",
       "    <tr>\n",
       "      <th>183576</th>\n",
       "      <td>51.748001</td>\n",
       "      <td>-0.741654</td>\n",
       "      <td>0.322956</td>\n",
       "      <td>66.644530</td>\n",
       "      <td>0.105658</td>\n",
       "    </tr>\n",
       "    <tr>\n",
       "      <th>183577</th>\n",
       "      <td>61.150513</td>\n",
       "      <td>-1.181462</td>\n",
       "      <td>-2.142098</td>\n",
       "      <td>109.030373</td>\n",
       "      <td>0.105658</td>\n",
       "    </tr>\n",
       "    <tr>\n",
       "      <th>183578</th>\n",
       "      <td>45.233368</td>\n",
       "      <td>-1.480476</td>\n",
       "      <td>0.059437</td>\n",
       "      <td>104.547205</td>\n",
       "      <td>0.105658</td>\n",
       "    </tr>\n",
       "    <tr>\n",
       "      <th>183579</th>\n",
       "      <td>43.361816</td>\n",
       "      <td>0.171065</td>\n",
       "      <td>-1.097633</td>\n",
       "      <td>43.997948</td>\n",
       "      <td>0.105658</td>\n",
       "    </tr>\n",
       "  </tbody>\n",
       "</table>\n",
       "<p>183580 rows × 5 columns</p>\n",
       "</div>"
      ],
      "text/plain": [
       "        pT_{#mu}(GeV)  #eta_{#mu}  #phi_{#mu}  Energy_{#mu}(GeV)  \\\n",
       "0           41.667759   -1.589091    1.830774         106.323796   \n",
       "1           49.013069    2.201596    3.011407         224.236178   \n",
       "2           48.903419   -0.755841   -1.702463          63.550515   \n",
       "3           40.123135    1.927982   -3.041330         140.853621   \n",
       "4           39.876068    0.629823   -0.791555          48.050070   \n",
       "...               ...         ...         ...                ...   \n",
       "183575      62.217964    0.448784   -2.960287          68.589473   \n",
       "183576      51.748001   -0.741654    0.322956          66.644530   \n",
       "183577      61.150513   -1.181462   -2.142098         109.030373   \n",
       "183578      45.233368   -1.480476    0.059437         104.547205   \n",
       "183579      43.361816    0.171065   -1.097633          43.997948   \n",
       "\n",
       "        Mass_{#mu}(GeV)  \n",
       "0              0.105658  \n",
       "1              0.105658  \n",
       "2              0.105658  \n",
       "3              0.105658  \n",
       "4              0.105658  \n",
       "...                 ...  \n",
       "183575         0.105658  \n",
       "183576         0.105658  \n",
       "183577         0.105658  \n",
       "183578         0.105658  \n",
       "183579         0.105658  \n",
       "\n",
       "[183580 rows x 5 columns]"
      ]
     },
     "execution_count": 6,
     "metadata": {},
     "output_type": "execute_result"
    }
   ],
   "source": [
    "Datasets_muon0['z']"
   ]
  },
  {
   "cell_type": "markdown",
   "id": "bf07937f-131f-406c-a6d0-446a18e8ad62",
   "metadata": {},
   "source": [
    "$\\textbf{Creación de los Histogramas}$\n",
    "\n",
    "En este paso la idea es usar todos los datos para construir los histogramas que sean de nuestro interés y guardarlos todos en un archivo .root; sin embargo, antes de guardarlos en un archivo.root hagamos un par para practicar.\n",
    "\n",
    "Una opción para graficar puede ser usar matplotlib.pyplot"
   ]
  },
  {
   "cell_type": "code",
   "execution_count": 7,
   "id": "63799afd-76c8-48a7-b56c-26ff12c911fe",
   "metadata": {},
   "outputs": [],
   "source": [
    "def Histogramas_Matplotlib(Dataset, signal, name, log = False, c = 'blue'):\n",
    "    Datos = Dataset[signal][name]\n",
    "    if log: Datos = np.log10(Datos)\n",
    "    \n",
    "    fig = plt.figure(figsize = (6,4))\n",
    "    plt.hist(Datos, bins= 100, color = c, density=True)\n",
    "    \n",
    "    name = '$' + name.replace('#' , \"\\\\\" ) + '$'\n",
    "    plt.xlabel(fr'{name}', fontsize = 15)\n",
    "    plt.ylabel('Events', fontsize = 15)\n",
    "    \n",
    "    titulo = 'Mean = ' + str(round(Datos.mean(),3))+ \", STD = \" + str(round(Datos.std(),3))\n",
    "    plt.title(titulo)\n",
    "    plt.show()"
   ]
  },
  {
   "cell_type": "markdown",
   "id": "57fc63a9-e4d6-4393-b207-7dba2b826429",
   "metadata": {},
   "source": [
    "Usando esta función es más fácil graficar todas las variables de una vez, tomemos como ejemplo el Z que reconstruimos."
   ]
  },
  {
   "cell_type": "code",
   "execution_count": 8,
   "id": "e031f8cf-d0f2-4b67-ac73-a533aab6eb42",
   "metadata": {
    "tags": []
   },
   "outputs": [
    {
     "data": {
      "image/png": "[encoded data removed]",
      "text/plain": [
       "<Figure size 600x400 with 1 Axes>"
      ]
     },
     "metadata": {},
     "output_type": "display_data"
    },
    {
     "data": {
      "image/png": "[encoded data removed]",
      "text/plain": [
       "<Figure size 600x400 with 1 Axes>"
      ]
     },
     "metadata": {},
     "output_type": "display_data"
    },
    {
     "data": {
      "image/png": "[encoded data removed]",
      "text/plain": [
       "<Figure size 600x400 with 1 Axes>"
      ]
     },
     "metadata": {},
     "output_type": "display_data"
    },
    {
     "data": {
      "image/png": "[encoded data removed]",
      "text/plain": [
       "<Figure size 600x400 with 1 Axes>"
      ]
     },
     "metadata": {},
     "output_type": "display_data"
    },
    {
     "data": {
      "image/png": "[encoded data removed]",
      "text/plain": [
       "<Figure size 600x400 with 1 Axes>"
      ]
     },
     "metadata": {},
     "output_type": "display_data"
    }
   ],
   "source": [
    "for signal in signals:\n",
    "    for name in Datasets_Z[signal].keys():\n",
    "        Histogramas_Matplotlib(Datasets_Z,signal, name, c = \"blue\")\n",
    "    break"
   ]
  },
  {
   "cell_type": "markdown",
   "id": "808d0a70-1ad1-4cdc-b019-5dd9992adb14",
   "metadata": {},
   "source": [
    "Aunque esta es bastante sencilla de usar dentro del jupyter, no nos permite guardar los histogramas en un archivo.root (ese será el paso 7), para esto, es necesario que grafiquemos usando ROOT, lo cual podría parecer más complicado; sin embargo, ya está implementado en delphes_reader:"
   ]
  },
  {
   "cell_type": "code",
   "execution_count": 9,
   "id": "ffbe4262-528c-447e-a20e-caee5bc68dab",
   "metadata": {},
   "outputs": [],
   "source": [
    "#Para eso debemos primero crear un diccionario donde cada elemento significa los valores [nbins,xmin,xmax] del histograma correspondiente\n",
    "\n",
    "histogramas_bins_dict={\n",
    "    \"#Delta{R}\":[8,0,7],\n",
    "    \"#Delta{#eta}\":[20,-5,5],\n",
    "    \"#Delta{#phi}\":[13,-3.25,3.25],\n",
    "    \"#Delta{pt}\":[15, 0.0, 1500.0],\n",
    "    \"#Delta{#vec{pT}}\":[30, 0.0, 3000.0],\n",
    "    \"#Delta{#vec{p}}\":[30, 0.0, 3000.0],\n",
    "    \"MET(GeV)\":[20, 0.0, 1000.0],\n",
    "    \"pT_\": [100,0, 180],\n",
    "    \"#eta_\":[20, -5, 5],\n",
    "    \"#phi_\":[64, -3.2, 3.2],\n",
    "    \"Mass_\":[167, 0.0, 250],\n",
    "    \"Energy_\":[20, 0.0, 1000.0]\n",
    "}\n",
    "\n",
    "#Ahora simplemente usamos la función make_histograms e hist_bins_dict como parametro\n",
    "histogramas = root_analysis.make_histograms(Datasets_Z['z'], hist_bins_dict = histogramas_bins_dict)"
   ]
  },
  {
   "cell_type": "markdown",
   "id": "b20d59aa-baae-4a3b-833c-a18144dd5940",
   "metadata": {},
   "source": [
    "Así, histogramas será un diccionario que contiene todos los TH1F de root, para graficar el que queramos simplemente hay que usar sus keys:"
   ]
  },
  {
   "cell_type": "code",
   "execution_count": 10,
   "id": "2a9bfe0b-7980-4bc8-b6f7-998d100ac73b",
   "metadata": {},
   "outputs": [
    {
     "data": {
      "text/plain": [
       "dict_keys(['pT_{Z}(GeV)', '#eta_{Z}', '#phi_{Z}', 'Energy_{Z}(GeV)', 'Mass_{Z}(GeV)'])"
      ]
     },
     "execution_count": 10,
     "metadata": {},
     "output_type": "execute_result"
    }
   ],
   "source": [
    "histogramas.keys()"
   ]
  },
  {
   "cell_type": "markdown",
   "id": "1a41f9d7-1614-491e-a766-a5f7ce03aa6e",
   "metadata": {},
   "source": [
    "Y crear un canvas:"
   ]
  },
  {
   "cell_type": "code",
   "execution_count": 11,
   "id": "3ae2abc1-fecd-4d64-bef0-422a40299aef",
   "metadata": {},
   "outputs": [],
   "source": [
    "canvas = TCanvas(\"Canvas\", \" \", 600, 400)"
   ]
  },
  {
   "cell_type": "code",
   "execution_count": 12,
   "id": "efd3ad2b-35d3-4e89-aad6-dd1ed3d5dca0",
   "metadata": {},
   "outputs": [
    {
     "data": {
      "image/png": "[encoded data removed]",
      "text/plain": [
       "<IPython.core.display.Image object>"
      ]
     },
     "metadata": {},
     "output_type": "display_data"
    }
   ],
   "source": [
    "histogramas['Mass_{Z}(GeV)'].Draw('hist')\n",
    "canvas.Draw()"
   ]
  },
  {
   "cell_type": "markdown",
   "id": "f1677dbe-ae2f-4a93-9642-9c84fa0a0d2b",
   "metadata": {},
   "source": [
    "Estos histogramas salen de **make_histograms** normalizados según la unidad; sin embargo, los necesitamos normalizados según el número de eventos físicos (N), donde:\n",
    "\n",
    "$$\\textbf{N} \\textrm{ = Luminosidad*Eficiencia*XS}$$ \n",
    "\n",
    "Con: $$\\textrm{Luminosidad} = 10 \\textrm{ fb} \\textrm{ , } \\textrm{Eficiencia} = \\cfrac{\\textrm{Número de Eventos Finales}}{\\textrm{Número de Eventos Iniciales}}$$\n",
    "\n",
    "Para calcular la eficiencia debemos cargar el archivo de cut_flows que generamos anteriormente."
   ]
  },
  {
   "cell_type": "code",
   "execution_count": 13,
   "id": "95eaf202-2d64-45b9-be03-ff9b44dbfbe9",
   "metadata": {},
   "outputs": [],
   "source": [
    "#Definamos una función que calcule la eficiencia leyendo el archivo cut_flows\n",
    "\n",
    "def Eficiencia(signal, Path_CSV, fila = -1, cut_flows_actualizado = False):\n",
    "    #fila corresponde a la fila respecto a la cual se va a calcular la Eficiencia relativa, por default es -1 ya que corresponde al último corte\n",
    "\n",
    "    cut_flows = pd.read_csv(f'{Path_CSV}/CSV_Z_Analisis/cut_flows.csv')\n",
    "    if cut_flows_actualizado: cut_flows = pd.read_csv(f'{Path_CSV}/CSV_Z_Analisis/cut_flows_actualizado.csv')\n",
    "    \n",
    "    cut_flows_signal = np.asarray(cut_flows[signal])\n",
    "    Eficiencia = cut_flows_signal[fila]/cut_flows_signal[0]\n",
    "    \n",
    "    return Eficiencia\n",
    "\n",
    "#Tambien definamos la Luminosidad\n",
    "\n",
    "def Luminosidad():\n",
    "    return 10*1000 #pb"
   ]
  },
  {
   "cell_type": "code",
   "execution_count": 14,
   "id": "ec716991-80dd-423a-a7d8-7608b34c3039",
   "metadata": {},
   "outputs": [
    {
     "data": {
      "image/png": "[encoded data removed]",
      "text/plain": [
       "<IPython.core.display.Image object>"
      ]
     },
     "metadata": {},
     "output_type": "display_data"
    }
   ],
   "source": [
    "N = Eficiencia('z', Path_CSV = personal_folder)*Luminosidad()*XS['z']\n",
    "\n",
    "#Ahora si normalicemos usando este N el histograma\n",
    "histogramas['Mass_{Z}(GeV)'].Scale(N/histogramas['Mass_{Z}(GeV)'].Integral())\n",
    "histogramas['Mass_{Z}(GeV)'].Draw('hist')\n",
    "canvas.Draw()"
   ]
  },
  {
   "cell_type": "markdown",
   "id": "178a9d5d-ae11-4291-aa83-969e023f67b7",
   "metadata": {},
   "source": [
    "En este punto tenemos el histograma normalizado según el número de eventos. Ahora la idea es hacer esto para generar los histogramas de todas las señales y guardarlos."
   ]
  },
  {
   "cell_type": "code",
   "execution_count": 15,
   "id": "38840261-bd23-4ae6-8dd2-57111d9f71dc",
   "metadata": {},
   "outputs": [
    {
     "name": "stdout",
     "output_type": "stream",
     "text": [
      "#Delta{pT}_{#mu#mu}(GeV)  is empty!\n"
     ]
    }
   ],
   "source": [
    "#Creemos diccionarios para guardar los Histogramas de cada Dataset:\n",
    "histogramas_muon0 = {}\n",
    "histogramas_muon1 = {}\n",
    "histogramas_correlation = {}\n",
    "histogramas_Z = {}\n",
    "\n",
    "for signal in signals:\n",
    "    histogramas_muon0[signal] = root_analysis.make_histograms(Datasets_muon0[signal], hist_bins_dict = histogramas_bins_dict)\n",
    "    histogramas_muon1[signal] = root_analysis.make_histograms(Datasets_muon1[signal], hist_bins_dict = histogramas_bins_dict)\n",
    "    histogramas_correlation[signal] = root_analysis.make_histograms(Datasets_correlation[signal], hist_bins_dict = histogramas_bins_dict)\n",
    "    histogramas_Z[signal] = root_analysis.make_histograms(Datasets_Z[signal], hist_bins_dict = histogramas_bins_dict)    \n",
    "    \n",
    "#De hecho podemos guardar todos estos en otro diccionario:\n",
    "histogramas = {'muon0': histogramas_muon0, 'muon1': histogramas_muon1, 'correlation': histogramas_correlation, 'Z': histogramas_Z}"
   ]
  },
  {
   "cell_type": "markdown",
   "id": "3cd25965-fad1-48cb-b038-48974f899c71",
   "metadata": {},
   "source": [
    "Así, histogramas va a tener la siguiente forma:"
   ]
  },
  {
   "cell_type": "code",
   "execution_count": 16,
   "id": "e9475aee-e7a7-41d6-8bb1-a0d0f5bf1d02",
   "metadata": {
    "tags": []
   },
   "outputs": [
    {
     "data": {
      "text/plain": [
       "{'muon0': {'z': {'pT_{#mu}(GeV)': <cppyy.gbl.TH1F object at 0x7f9bdacf6950>,\n",
       "   '#eta_{#mu}': <cppyy.gbl.TH1F object at 0x7f9bdf2a9800>,\n",
       "   '#phi_{#mu}': <cppyy.gbl.TH1F object at 0x7f9bd7480080>,\n",
       "   'Energy_{#mu}(GeV)': <cppyy.gbl.TH1F object at 0x7f9bd73df790>,\n",
       "   'Mass_{#mu}(GeV)': <cppyy.gbl.TH1F object at 0x7fffeecb05c0>},\n",
       "  'w_jets': {'pT_{#mu}(GeV)': <cppyy.gbl.TH1F object at 0x7f9bdad170e0>,\n",
       "   '#eta_{#mu}': <cppyy.gbl.TH1F object at 0x7f9bdae35090>,\n",
       "   '#phi_{#mu}': <cppyy.gbl.TH1F object at 0x7f9bdaccebd0>,\n",
       "   'Energy_{#mu}(GeV)': <cppyy.gbl.TH1F object at 0x7f9bdaccf070>,\n",
       "   'Mass_{#mu}(GeV)': <cppyy.gbl.TH1F object at 0x7f9bdaccf7e0>},\n",
       "  'ww': {'pT_{#mu}(GeV)': <cppyy.gbl.TH1F object at 0x7f9bdad26d30>,\n",
       "   '#eta_{#mu}': <cppyy.gbl.TH1F object at 0x7f9bdae3a140>,\n",
       "   '#phi_{#mu}': <cppyy.gbl.TH1F object at 0x7f9bdae3a550>,\n",
       "   'Energy_{#mu}(GeV)': <cppyy.gbl.TH1F object at 0x7f9bdad0ba20>,\n",
       "   'Mass_{#mu}(GeV)': <cppyy.gbl.TH1F object at 0x7f9bdad0beb0>},\n",
       "  'wz': {'pT_{#mu}(GeV)': <cppyy.gbl.TH1F object at 0x7f9bdad2f2a0>,\n",
       "   '#eta_{#mu}': <cppyy.gbl.TH1F object at 0x7f9bdacdff80>,\n",
       "   '#phi_{#mu}': <cppyy.gbl.TH1F object at 0x7f9bdace0500>,\n",
       "   'Energy_{#mu}(GeV)': <cppyy.gbl.TH1F object at 0x7f9bdace0ad0>,\n",
       "   'Mass_{#mu}(GeV)': <cppyy.gbl.TH1F object at 0x7f9bdad2a7b0>},\n",
       "  'zz': {'pT_{#mu}(GeV)': <cppyy.gbl.TH1F object at 0x7f9bdad46840>,\n",
       "   '#eta_{#mu}': <cppyy.gbl.TH1F object at 0x7f9bdad05040>,\n",
       "   '#phi_{#mu}': <cppyy.gbl.TH1F object at 0x7f9bdad055c0>,\n",
       "   'Energy_{#mu}(GeV)': <cppyy.gbl.TH1F object at 0x7f9bdad05db0>,\n",
       "   'Mass_{#mu}(GeV)': <cppyy.gbl.TH1F object at 0x7f9bdad063d0>},\n",
       "  'ttbar': {'pT_{#mu}(GeV)': <cppyy.gbl.TH1F object at 0x7f9bdad31e30>,\n",
       "   '#eta_{#mu}': <cppyy.gbl.TH1F object at 0x7f9bdad32800>,\n",
       "   '#phi_{#mu}': <cppyy.gbl.TH1F object at 0x7f9bdad32de0>,\n",
       "   'Energy_{#mu}(GeV)': <cppyy.gbl.TH1F object at 0x7f9bdad4af50>,\n",
       "   'Mass_{#mu}(GeV)': <cppyy.gbl.TH1F object at 0x7f9bdad4b570>},\n",
       "  'stop': {'pT_{#mu}(GeV)': <cppyy.gbl.TH1F object at 0x7f9bdad34dc0>,\n",
       "   '#eta_{#mu}': <cppyy.gbl.TH1F object at 0x7f9bdad35790>,\n",
       "   '#phi_{#mu}': <cppyy.gbl.TH1F object at 0x7f9bdad35d70>,\n",
       "   'Energy_{#mu}(GeV)': <cppyy.gbl.TH1F object at 0x7f9bdad36450>,\n",
       "   'Mass_{#mu}(GeV)': <cppyy.gbl.TH1F object at 0x7f9bdad36a70>}},\n",
       " 'muon1': {'z': {'pT_{#mu}(GeV)': <cppyy.gbl.TH1F object at 0x7fffeecb01d0>,\n",
       "   '#eta_{#mu}': <cppyy.gbl.TH1F object at 0x7f9bdacdba50>,\n",
       "   '#phi_{#mu}': <cppyy.gbl.TH1F object at 0x7f9bdace1320>,\n",
       "   'Energy_{#mu}(GeV)': <cppyy.gbl.TH1F object at 0x7f9bdad034f0>,\n",
       "   'Mass_{#mu}(GeV)': <cppyy.gbl.TH1F object at 0x7f9bdf283100>},\n",
       "  'w_jets': {'pT_{#mu}(GeV)': <cppyy.gbl.TH1F object at 0x7f9bdad281e0>,\n",
       "   '#eta_{#mu}': <cppyy.gbl.TH1F object at 0x7f9bdad286b0>,\n",
       "   '#phi_{#mu}': <cppyy.gbl.TH1F object at 0x7f9bdacdddd0>,\n",
       "   'Energy_{#mu}(GeV)': <cppyy.gbl.TH1F object at 0x7f9bdacde380>,\n",
       "   'Mass_{#mu}(GeV)': <cppyy.gbl.TH1F object at 0x7f9bdad13130>},\n",
       "  'ww': {'pT_{#mu}(GeV)': <cppyy.gbl.TH1F object at 0x7f9bdad4ec90>,\n",
       "   '#eta_{#mu}': <cppyy.gbl.TH1F object at 0x7f9bdad18eb0>,\n",
       "   '#phi_{#mu}': <cppyy.gbl.TH1F object at 0x7f9bdad19350>,\n",
       "   'Energy_{#mu}(GeV)': <cppyy.gbl.TH1F object at 0x7f9bdad43b80>,\n",
       "   'Mass_{#mu}(GeV)': <cppyy.gbl.TH1F object at 0x7f9bdad440b0>},\n",
       "  'wz': {'pT_{#mu}(GeV)': <cppyy.gbl.TH1F object at 0x7f9bdad2b4a0>,\n",
       "   '#eta_{#mu}': <cppyy.gbl.TH1F object at 0x7f9bdad039b0>,\n",
       "   '#phi_{#mu}': <cppyy.gbl.TH1F object at 0x7f9bdad03fb0>,\n",
       "   'Energy_{#mu}(GeV)': <cppyy.gbl.TH1F object at 0x7f9bdad04470>,\n",
       "   'Mass_{#mu}(GeV)': <cppyy.gbl.TH1F object at 0x7f9bdad04a90>},\n",
       "  'zz': {'pT_{#mu}(GeV)': <cppyy.gbl.TH1F object at 0x7f9bdad070e0>,\n",
       "   '#eta_{#mu}': <cppyy.gbl.TH1F object at 0x7f9bdace2ab0>,\n",
       "   '#phi_{#mu}': <cppyy.gbl.TH1F object at 0x7f9bdace3050>,\n",
       "   'Energy_{#mu}(GeV)': <cppyy.gbl.TH1F object at 0x7f9bdace3840>,\n",
       "   'Mass_{#mu}(GeV)': <cppyy.gbl.TH1F object at 0x7f9bdace3e90>},\n",
       "  'ttbar': {'pT_{#mu}(GeV)': <cppyy.gbl.TH1F object at 0x7f9bdad4c280>,\n",
       "   '#eta_{#mu}': <cppyy.gbl.TH1F object at 0x7f9bdad4cc70>,\n",
       "   '#phi_{#mu}': <cppyy.gbl.TH1F object at 0x7f9bdad4d250>,\n",
       "   'Energy_{#mu}(GeV)': <cppyy.gbl.TH1F object at 0x7f9bdad4da40>,\n",
       "   'Mass_{#mu}(GeV)': <cppyy.gbl.TH1F object at 0x7f9bdae2e720>},\n",
       "  'stop': {'pT_{#mu}(GeV)': <cppyy.gbl.TH1F object at 0x7f9bdad37780>,\n",
       "   '#eta_{#mu}': <cppyy.gbl.TH1F object at 0x7f9bdad38170>,\n",
       "   '#phi_{#mu}': <cppyy.gbl.TH1F object at 0x7f9bdad38750>,\n",
       "   'Energy_{#mu}(GeV)': <cppyy.gbl.TH1F object at 0x7f9bdad38f40>,\n",
       "   'Mass_{#mu}(GeV)': <cppyy.gbl.TH1F object at 0x7f9bdad39590>}},\n",
       " 'correlation': {'z': {'pT_{#mu}(GeV)': <cppyy.gbl.TH1F object at 0x7f9bdae32090>,\n",
       "   '#eta_{#mu}': <cppyy.gbl.TH1F object at 0x7f9bdad02f90>,\n",
       "   '#phi_{#mu}': <cppyy.gbl.TH1F object at 0x7f9bdad1cbd0>,\n",
       "   'Energy_{#mu}(GeV)': <cppyy.gbl.TH1F object at 0x7f9bdad0f1f0>,\n",
       "   'Mass_{#mu}(GeV)': <cppyy.gbl.TH1F object at 0x7f9bdac65e00>,\n",
       "   '#Delta{R}_{#mu#mu}': <cppyy.gbl.TH1F object at 0x7f9bdae3cf40>,\n",
       "   '#Delta{#eta}_{#mu#mu}': <cppyy.gbl.TH1F object at 0x7f9bdae390f0>,\n",
       "   '#Delta{#phi}_{#mu#mu}': <cppyy.gbl.TH1F object at 0x7f9bdae36480>,\n",
       "   '#Delta{pT}_{#mu#mu}(GeV)': <cppyy.gbl.TH1F object at 0x7f9bdae33d80>,\n",
       "   '#Delta{#vec{pT}}_{#mu#mu}(GeV)': <cppyy.gbl.TH1F object at 0x7f9be28cb640>,\n",
       "   '#Delta{#vec{p}}_{#mu#mu}(GeV)': <cppyy.gbl.TH1F object at 0x7f9bdae3b500>},\n",
       "  'w_jets': {'pT_{#mu}(GeV)': <cppyy.gbl.TH1F object at 0x7f9bdacc6900>,\n",
       "   '#eta_{#mu}': <cppyy.gbl.TH1F object at 0x7f9bdacc6e40>,\n",
       "   '#phi_{#mu}': <cppyy.gbl.TH1F object at 0x7f9bdae3c0a0>,\n",
       "   'Energy_{#mu}(GeV)': <cppyy.gbl.TH1F object at 0x7f9bdae3c670>,\n",
       "   'Mass_{#mu}(GeV)': <cppyy.gbl.TH1F object at 0x7f9bdacdc240>,\n",
       "   '#Delta{R}_{#mu#mu}': <cppyy.gbl.TH1F object at 0x7f9bdad1b630>,\n",
       "   '#Delta{#eta}_{#mu#mu}': <cppyy.gbl.TH1F object at 0x7f9bdad1bb50>,\n",
       "   '#Delta{#phi}_{#mu#mu}': <cppyy.gbl.TH1F object at 0x7f9bdad1c220>,\n",
       "   '#Delta{pT}_{#mu#mu}(GeV)': <cppyy.gbl.TH1F object at 0x7f9bdae39a40>,\n",
       "   '#Delta{#vec{pT}}_{#mu#mu}(GeV)': <cppyy.gbl.TH1F object at 0x7f9bdad1aa40>,\n",
       "   '#Delta{#vec{p}}_{#mu#mu}(GeV)': <cppyy.gbl.TH1F object at 0x7f9bdacd94a0>},\n",
       "  'ww': {'pT_{#mu}(GeV)': <cppyy.gbl.TH1F object at 0x7f9bdad4a2e0>,\n",
       "   '#eta_{#mu}': <cppyy.gbl.TH1F object at 0x7f9bdad259a0>,\n",
       "   '#phi_{#mu}': <cppyy.gbl.TH1F object at 0x7f9bdad25e60>,\n",
       "   'Energy_{#mu}(GeV)': <cppyy.gbl.TH1F object at 0x7f9bdad26320>,\n",
       "   'Mass_{#mu}(GeV)': <cppyy.gbl.TH1F object at 0x7f9bdad14a70>,\n",
       "   '#Delta{R}_{#mu#mu}': <cppyy.gbl.TH1F object at 0x7f9bdad154b0>,\n",
       "   '#Delta{#eta}_{#mu#mu}': <cppyy.gbl.TH1F object at 0x7f9bdaccd200>,\n",
       "   '#Delta{#phi}_{#mu#mu}': <cppyy.gbl.TH1F object at 0x7f9bdaccd7e0>,\n",
       "   '#Delta{pT}_{#mu#mu}(GeV)': <cppyy.gbl.TH1F object at 0x7f9bdaccdce0>,\n",
       "   '#Delta{#vec{pT}}_{#mu#mu}(GeV)': <cppyy.gbl.TH1F object at 0x7f9bdad28c70>,\n",
       "   '#Delta{#vec{p}}_{#mu#mu}(GeV)': <cppyy.gbl.TH1F object at 0x7f9bdad29140>},\n",
       "  'wz': {'pT_{#mu}(GeV)': <cppyy.gbl.TH1F object at 0x7f9bdad1d670>,\n",
       "   '#eta_{#mu}': <cppyy.gbl.TH1F object at 0x7f9bdad1def0>,\n",
       "   '#phi_{#mu}': <cppyy.gbl.TH1F object at 0x7f9bdad1e4d0>,\n",
       "   'Energy_{#mu}(GeV)': <cppyy.gbl.TH1F object at 0x7f9bdad08fe0>,\n",
       "   'Mass_{#mu}(GeV)': <cppyy.gbl.TH1F object at 0x7f9bdad095d0>,\n",
       "   '#Delta{R}_{#mu#mu}': <cppyy.gbl.TH1F object at 0x7f9bdad0a2c0>,\n",
       "   '#Delta{#eta}_{#mu#mu}': <cppyy.gbl.TH1F object at 0x7f9bdad0a7e0>,\n",
       "   '#Delta{#phi}_{#mu#mu}': <cppyy.gbl.TH1F object at 0x7f9bdad0cf10>,\n",
       "   '#Delta{pT}_{#mu#mu}(GeV)': <cppyy.gbl.TH1F object at 0x7f9bdad0d460>,\n",
       "   '#Delta{#vec{pT}}_{#mu#mu}(GeV)': <cppyy.gbl.TH1F object at 0x7f9bdad0d9f0>,\n",
       "   '#Delta{#vec{p}}_{#mu#mu}(GeV)': <cppyy.gbl.TH1F object at 0x7f9bdad0e0c0>},\n",
       "  'zz': {'pT_{#mu}(GeV)': <cppyy.gbl.TH1F object at 0x7f9bdad22f40>,\n",
       "   '#eta_{#mu}': <cppyy.gbl.TH1F object at 0x7f9bdad238f0>,\n",
       "   '#phi_{#mu}': <cppyy.gbl.TH1F object at 0x7f9bdad23ed0>,\n",
       "   'Energy_{#mu}(GeV)': <cppyy.gbl.TH1F object at 0x7f9bdad246c0>,\n",
       "   'Mass_{#mu}(GeV)': <cppyy.gbl.TH1F object at 0x7f9bdad24ce0>,\n",
       "   '#Delta{R}_{#mu#mu}': <cppyy.gbl.TH1F object at 0x7f9bdad47c50>,\n",
       "   '#Delta{#eta}_{#mu#mu}': <cppyy.gbl.TH1F object at 0x7f9bdad48170>,\n",
       "   '#Delta{#phi}_{#mu#mu}': <cppyy.gbl.TH1F object at 0x7f9bdad48840>,\n",
       "   '#Delta{pT}_{#mu#mu}(GeV)': <cppyy.gbl.TH1F object at 0x7f9bdad48d40>,\n",
       "   '#Delta{#vec{pT}}_{#mu#mu}(GeV)': <cppyy.gbl.TH1F object at 0x7f9bdad50310>,\n",
       "   '#Delta{#vec{p}}_{#mu#mu}(GeV)': <cppyy.gbl.TH1F object at 0x7f9bdad509e0>},\n",
       "  'ttbar': {'pT_{#mu}(GeV)': <cppyy.gbl.TH1F object at 0x7f9bdae2f410>,\n",
       "   '#eta_{#mu}': <cppyy.gbl.TH1F object at 0x7f9bdae2fe90>,\n",
       "   '#phi_{#mu}': <cppyy.gbl.TH1F object at 0x7f9bdae30470>,\n",
       "   'Energy_{#mu}(GeV)': <cppyy.gbl.TH1F object at 0x7f9bdae30c60>,\n",
       "   'Mass_{#mu}(GeV)': <cppyy.gbl.TH1F object at 0x7f9bdae31280>,\n",
       "   '#Delta{R}_{#mu#mu}': <cppyy.gbl.TH1F object at 0x7f9bdad1f260>,\n",
       "   '#Delta{#eta}_{#mu#mu}': <cppyy.gbl.TH1F object at 0x7f9bdad1f750>,\n",
       "   '#Delta{#phi}_{#mu#mu}': <cppyy.gbl.TH1F object at 0x7f9bdad1fe20>,\n",
       "   '#Delta{pT}_{#mu#mu}(GeV)': <cppyy.gbl.TH1F object at 0x7f9bdad20370>,\n",
       "   '#Delta{#vec{pT}}_{#mu#mu}(GeV)': <cppyy.gbl.TH1F object at 0x7f9bdad20900>,\n",
       "   '#Delta{#vec{p}}_{#mu#mu}(GeV)': <cppyy.gbl.TH1F object at 0x7f9bdad20fd0>},\n",
       "  'stop': {'pT_{#mu}(GeV)': <cppyy.gbl.TH1F object at 0x7f9bdad3a280>,\n",
       "   '#eta_{#mu}': <cppyy.gbl.TH1F object at 0x7f9bdad3ad00>,\n",
       "   '#phi_{#mu}': <cppyy.gbl.TH1F object at 0x7f9bdad3b2e0>,\n",
       "   'Energy_{#mu}(GeV)': <cppyy.gbl.TH1F object at 0x7f9bdad3bad0>,\n",
       "   'Mass_{#mu}(GeV)': <cppyy.gbl.TH1F object at 0x7f9bdad3c0f0>,\n",
       "   '#Delta{R}_{#mu#mu}': <cppyy.gbl.TH1F object at 0x7f9bdad3cde0>,\n",
       "   '#Delta{#eta}_{#mu#mu}': <cppyy.gbl.TH1F object at 0x7f9bdad3d290>,\n",
       "   '#Delta{#phi}_{#mu#mu}': <cppyy.gbl.TH1F object at 0x7f9bdad3d960>,\n",
       "   '#Delta{pT}_{#mu#mu}(GeV)': <cppyy.gbl.TH1F object at 0x7f9bdad3df30>,\n",
       "   '#Delta{#vec{pT}}_{#mu#mu}(GeV)': <cppyy.gbl.TH1F object at 0x7f9bdad3e540>,\n",
       "   '#Delta{#vec{p}}_{#mu#mu}(GeV)': <cppyy.gbl.TH1F object at 0x7f9bdad3ec10>}},\n",
       " 'Z': {'z': {'pT_{Z}(GeV)': <cppyy.gbl.TH1F object at 0x7f9bdad07620>,\n",
       "   '#eta_{Z}': <cppyy.gbl.TH1F object at 0x7f9bdae3ee90>,\n",
       "   '#phi_{Z}': <cppyy.gbl.TH1F object at 0x7f9bdae347d0>,\n",
       "   'Energy_{Z}(GeV)': <cppyy.gbl.TH1F object at 0x7f9bdacdd2b0>,\n",
       "   'Mass_{Z}(GeV)': <cppyy.gbl.TH1F object at 0x7f9bdad16c40>},\n",
       "  'w_jets': {'pT_{Z}(GeV)': <cppyy.gbl.TH1F object at 0x7f9bdad336d0>,\n",
       "   '#eta_{Z}': <cppyy.gbl.TH1F object at 0x7f9bdad49790>,\n",
       "   '#phi_{Z}': <cppyy.gbl.TH1F object at 0x7f9bdad0b160>,\n",
       "   'Energy_{Z}(GeV)': <cppyy.gbl.TH1F object at 0x7f9bdae408f0>,\n",
       "   'Mass_{Z}(GeV)': <cppyy.gbl.TH1F object at 0x7f9bdad2fc90>},\n",
       "  'ww': {'pT_{Z}(GeV)': <cppyy.gbl.TH1F object at 0x7f9bdad2d120>,\n",
       "   '#eta_{Z}': <cppyy.gbl.TH1F object at 0x7f9bdad2d8c0>,\n",
       "   '#phi_{Z}': <cppyy.gbl.TH1F object at 0x7f9bdad2dde0>,\n",
       "   'Energy_{Z}(GeV)': <cppyy.gbl.TH1F object at 0x7f9bdad2e4d0>,\n",
       "   'Mass_{Z}(GeV)': <cppyy.gbl.TH1F object at 0x7f9bdad2eb30>},\n",
       "  'wz': {'pT_{Z}(GeV)': <cppyy.gbl.TH1F object at 0x7f9bdad0ead0>,\n",
       "   '#eta_{Z}': <cppyy.gbl.TH1F object at 0x7f9bdad449d0>,\n",
       "   '#phi_{Z}': <cppyy.gbl.TH1F object at 0x7f9bdad44f70>,\n",
       "   'Energy_{Z}(GeV)': <cppyy.gbl.TH1F object at 0x7f9bdad45520>,\n",
       "   'Mass_{Z}(GeV)': <cppyy.gbl.TH1F object at 0x7f9bdad45b80>},\n",
       "  'zz': {'pT_{Z}(GeV)': <cppyy.gbl.TH1F object at 0x7f9bdad51500>,\n",
       "   '#eta_{Z}': <cppyy.gbl.TH1F object at 0x7f9bdad51eb0>,\n",
       "   '#phi_{Z}': <cppyy.gbl.TH1F object at 0x7f9bdad52490>,\n",
       "   'Energy_{Z}(GeV)': <cppyy.gbl.TH1F object at 0x7f9bdad30b30>,\n",
       "   'Mass_{Z}(GeV)': <cppyy.gbl.TH1F object at 0x7f9bdad31170>},\n",
       "  'ttbar': {'pT_{Z}(GeV)': <cppyy.gbl.TH1F object at 0x7f9bdad21af0>,\n",
       "   '#eta_{Z}': <cppyy.gbl.TH1F object at 0x7f9bdad224a0>,\n",
       "   '#phi_{Z}': <cppyy.gbl.TH1F object at 0x7f9bdad22a80>,\n",
       "   'Energy_{Z}(GeV)': <cppyy.gbl.TH1F object at 0x7f9bdad33b80>,\n",
       "   'Mass_{Z}(GeV)': <cppyy.gbl.TH1F object at 0x7f9bdad34100>},\n",
       "  'stop': {'pT_{Z}(GeV)': <cppyy.gbl.TH1F object at 0x7f9bdad3f730>,\n",
       "   '#eta_{Z}': <cppyy.gbl.TH1F object at 0x7f9bdad400e0>,\n",
       "   '#phi_{Z}': <cppyy.gbl.TH1F object at 0x7f9bdad406c0>,\n",
       "   'Energy_{Z}(GeV)': <cppyy.gbl.TH1F object at 0x7f9bdad40e90>,\n",
       "   'Mass_{Z}(GeV)': <cppyy.gbl.TH1F object at 0x7f9bdad414f0>}}}"
      ]
     },
     "execution_count": 16,
     "metadata": {},
     "output_type": "execute_result"
    }
   ],
   "source": [
    "histogramas #Es un directorio de particulas de directorios de las señales de directorios de las variables cinematicas"
   ]
  },
  {
   "cell_type": "markdown",
   "id": "5aef05da-cfe9-49bc-a052-fc25f49a8b87",
   "metadata": {},
   "source": [
    "Así si queremos graficar por ejemplo ETA del muon1 de la señal WW simplemente hay que hacer el siguiente código:"
   ]
  },
  {
   "cell_type": "code",
   "execution_count": 17,
   "id": "f05ad9c1-adbf-44f7-9f0a-a01372bb12d8",
   "metadata": {},
   "outputs": [
    {
     "data": {
      "image/png": "[encoded data removed]",
      "text/plain": [
       "<IPython.core.display.Image object>"
      ]
     },
     "metadata": {},
     "output_type": "display_data"
    }
   ],
   "source": [
    "histogramas['muon1']['ww']['#eta_{#mu}'].Draw('hist')\n",
    "canvas.Draw()"
   ]
  },
  {
   "cell_type": "markdown",
   "id": "be51e110-cb5b-4110-ae80-b97e8aa7982b",
   "metadata": {},
   "source": [
    "Sin embargo, aún nos falta normalizarlos según el número de eventos, hagámoslo:"
   ]
  },
  {
   "cell_type": "code",
   "execution_count": 20,
   "id": "ff88b303-ea09-4245-bac2-3a1f626b9db4",
   "metadata": {
    "tags": []
   },
   "outputs": [],
   "source": [
    "for nombre in histogramas:\n",
    "    for signal in signals:\n",
    "        N = Eficiencia(signal, Path_CSV = personal_folder)*Luminosidad()*XS[signal]\n",
    "        histos = histogramas[nombre][signal]\n",
    "        for hist in histos:\n",
    "            h = histos[hist]\n",
    "            h.Scale(N/h.Integral())"
   ]
  },
  {
   "cell_type": "markdown",
   "id": "e8f65be5-0d2b-433d-b163-27ad891bfc74",
   "metadata": {},
   "source": [
    "Así, si volvemos a tratar de graficar el que usamos como ejemplo, veremos que efectivamente su escala cambio:"
   ]
  },
  {
   "cell_type": "code",
   "execution_count": 21,
   "id": "349f0c7d-b805-4af1-aea5-e59c49028f61",
   "metadata": {},
   "outputs": [
    {
     "data": {
      "image/png": "[encoded data removed]",
      "text/plain": [
       "<IPython.core.display.Image object>"
      ]
     },
     "metadata": {},
     "output_type": "display_data"
    }
   ],
   "source": [
    "histogramas['muon1']['ww']['#eta_{#mu}'].Draw('hist')\n",
    "canvas.Draw()"
   ]
  },
  {
   "cell_type": "markdown",
   "id": "be7ed330-33d2-41be-b263-31596c5fbc98",
   "metadata": {},
   "source": [
    "Estos histogramas normalizados según su número de eventos son los que debemos guardar en el archivo.root"
   ]
  },
  {
   "cell_type": "markdown",
   "id": "0e710f42-bdd6-4136-9056-0243f218b69e",
   "metadata": {},
   "source": [
    "$\\textbf{Creación del archivo.root con los Histogramas}$\n",
    "\n",
    "Este paso variara según el análisis que se quiera hacer y también la estructura que queramos tener en el archivo.root; sin embargo, supongammos que tenemos un histograma (objeto TH1F) llamado hist y queremos guardarlo en un archivo llamado ejemplo.root dentro de una carpeta llamada carpeta, el código a escribir se vuelve simplemente lo siguiente:"
   ]
  },
  {
   "cell_type": "code",
   "execution_count": 22,
   "id": "d5c7d4a9-ed3e-434d-a80c-b5734c3009ee",
   "metadata": {},
   "outputs": [],
   "source": [
    "#Para este ejemplo tomemos hist como el histograma que graficamos arriba, el de la masa del Z reconstruida de la señal zz, es decir:\n",
    "hist = histogramas_Z['z']['Mass_{Z}(GeV)']\n",
    "\n",
    "#Con esto en mente, ahora debemos crear el archivo.root\n",
    "rootFile = TFile.Open(\"ejemplo.root\", \"RECREATE\")\n",
    "\n",
    "carpeta = rootFile.mkdir(\"carpeta\") #Creación de la carpeta llamada \"carpeta\"\n",
    "carpeta.cd() #Abre uno esa carpeta para trabajar en ella, esto permite que podamos guardar los histogramas en ella más adelante.\n",
    "\n",
    "hist.Write(\"Histograma\") #Se guarda el histograma dentro de la ruta en que estemos (la que corresponda al último cd, en este caso es dentro de carpeta) bajo el nombre Histograma, saber el nombre es importante para poder leer el archivo.root más adelante y tratar de extraer el histograma.\n",
    "        \n",
    "rootFile.Close()#Se cierra el archivo.root"
   ]
  },
  {
   "cell_type": "markdown",
   "id": "760c4cc6-bbe7-4763-bc29-34c3e212388d",
   "metadata": {},
   "source": [
    "Este razonamiento se puede complificar tanto como se requiera, en este caso la estructura que se puede pensar para este análisis cinemática en el archivo.root es la siguiente: \n",
    "\n",
    "Dentro del archivo.root tendremos una carpeta para cada Dataset (Datasets_muon0, Datasets_muon1, etc), luego dentro de cada una de esas carpetas habrá otra carpeta para cada señal (z, zz, wz, wjets, etc). Finalmente, en dichas carpetas estarán los histogramas correspondientes. \n",
    "\n",
    "Es decir que el histograma de pT que está en la ruta: archivo.root/muon0/zz/ corresponderá al histograma del PT del muon 0 del proceso zz. \n",
    "\n",
    "Siguiendo este razonamiento se puede definir la siguiente función para facilitar la creación del archivo.root "
   ]
  },
  {
   "cell_type": "code",
   "execution_count": 23,
   "id": "2340788a-5c9d-4a48-b507-1560bd061292",
   "metadata": {},
   "outputs": [],
   "source": [
    "def Write_ROOT_File(nombre, Histogramas, signals):\n",
    "    #nombre: Es el nombre que queremos que tenga el archivo.root\n",
    "    #Histogramas: Es un diccionario que debe tener una estructura analoga a: histogramas = {'muon': histogramas_muon0, 'muon1': histogramas_muon1, 'correlation': histogramas_correlation, 'Z': histogramas_Z}\n",
    "    #signals: Arreglo con los nombres de las subcarpetas que crear, en este caso corresponden a los keys de Paths debido a que así planteamos la estructura en la que queremos guardar el archivo\n",
    "    \n",
    "    ROOT_File = TFile.Open(nombre, 'RECREATE') #Crea el archivo .root\n",
    "    \n",
    "    for nombre in Histogramas.keys():\n",
    "        dir_carpeta = ROOT_File.mkdir(nombre) #Creación de la carpeta con el contendra todos los histogramas para todos los procesos correspondientes a la particual con el nombre de dicha carpeta, dígamos, si la carpeta se llama muon0 todo corresponde al muon0\n",
    "        dir_carpeta.cd() #Abre uno esa carpeta para trabajar en ella, esto permite que podamos guardar los histogramas en ella más adelante.\n",
    "        \n",
    "        histogramas_particula = Histogramas[nombre]\n",
    "        \n",
    "        for signal in signals: \n",
    "            dir_signal = dir_carpeta.mkdir(signal) #Crea la subcarpeta de la señal.\n",
    "            dir_signal.cd() #Abre la subcarpeta de la señal.\n",
    "\n",
    "            for hist in histogramas_particula[signal]:\n",
    "                histogramas_particula[signal][hist].Write() #Se guarda el histograma en la ruta deseada, con el nombre de la carpeta, la señal y el nombre que tenía, esto facilitara buscarlos despues\n",
    "    \n",
    "    ROOT_File.Close()#Se cierra el archivo.root\n",
    "    \n",
    "    !touch archivo_root_generado.txt #Testigo para saber cuando acabo de correr el código anterior."
   ]
  },
  {
   "cell_type": "code",
   "execution_count": 24,
   "id": "0eb42cd1-ee1d-4d32-8158-2f0ebaaceea2",
   "metadata": {
    "tags": []
   },
   "outputs": [],
   "source": [
    "Write_ROOT_File(\"Histogramas.root\", histogramas,  signals)"
   ]
  },
  {
   "cell_type": "markdown",
   "id": "24ce6e8a-6f96-431e-9f93-ef2624045b9a",
   "metadata": {},
   "source": [
    "En este punto ya tendremos el archivo.root con todos los histogramas que se necesitan, por lo que es posible leerlo cuando se desee trabajar con ellos, ese será el tema del siguiente capítulo."
   ]
  }
 ],
 "metadata": {
  "kernelspec": {
   "display_name": "Python 3 (ipykernel)",
   "language": "python",
   "name": "python3"
  },
  "language_info": {
   "codemirror_mode": {
    "name": "ipython",
    "version": 3
   },
   "file_extension": ".py",
   "mimetype": "text/x-python",
   "name": "python",
   "nbconvert_exporter": "python",
   "pygments_lexer": "ipython3",
   "version": "3.10.6"
  }
 },
 "nbformat": 4,
 "nbformat_minor": 5
}
