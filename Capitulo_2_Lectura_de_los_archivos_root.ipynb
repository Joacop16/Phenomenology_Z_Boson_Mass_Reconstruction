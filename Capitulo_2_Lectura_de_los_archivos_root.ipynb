{
 "cells": [
  {
   "cell_type": "markdown",
   "id": "e114763e-9ca9-496f-ac2b-dbf4c02e7a8b",
   "metadata": {},
   "source": [
    "$$\\textrm{Joaquin Peñuela Parra}$$\n",
    "$$\\textrm{Universidad de los Andes}$$\n",
    "$$\\textrm{Grupo de Física de Altas Energías: Fenomenología de Partículas}$$\n",
    "\n",
    "$\\textbf{Preliminares}$ \n",
    "\n",
    "Las librerías que se usan en este capítulo son las siguientes: "
   ]
  },
  {
   "cell_type": "code",
   "execution_count": 1,
   "id": "f47bbd8f-f887-4d0a-baca-4e68ff71bc7e",
   "metadata": {},
   "outputs": [
    {
     "name": "stdout",
     "output_type": "stream",
     "text": [
      "Welcome to JupyROOT 6.26/06\n"
     ]
    }
   ],
   "source": [
    "import os, sys\n",
    "\n",
    "Path_Tutorials = os.path.dirname(os.path.realpath('Capitulo_2_Lectura_de_los_archivos_root.ipynb'))\n",
    "Path_Pheno_BSM = os.path.dirname(Path_Tutorials)\n",
    "sys.path.append(Path_Pheno_BSM)\n",
    "sys.path.append(f'{Path_Pheno_BSM}/Leptoquarks_searches/03_delphes_preselection')\n",
    "\n",
    "from ROOT import TChain #Para poder leer los datos del archivo .root\n",
    "\n",
    "from delphes_reader import Quiet #Permite ignorar algunas excepciones que ocurren al leer archivos de Delphes\n",
    "from delphes_reader import DelphesLoader \n",
    "from delphes_reader.clasificator import get_muons\n",
    "from delphes_reader import root_analysis\n",
    "import event_selection\n",
    "\n",
    "import pandas as pd\n",
    "\n",
    "personal_folder = f'{Path_Pheno_BSM}/Tutorials'"
   ]
  },
  {
   "cell_type": "markdown",
   "id": "48406304-c51d-4071-a324-27947aa82573",
   "metadata": {},
   "source": [
    "$\\textbf{Definir las rutas de los archivos .root para cada proceso}$ \n",
    "\n",
    "Ahora debemos leer todos los archivos .root de la señal y también del background, para esto necesitamos definir esas rutas primero: "
   ]
  },
  {
   "cell_type": "code",
   "execution_count": 2,
   "id": "872db2d2-c93c-4d90-a9bc-ddb9723db494",
   "metadata": {
    "collapsed": true,
    "jupyter": {
     "outputs_hidden": true
    },
    "tags": []
   },
   "outputs": [
    {
     "name": "stdout",
     "output_type": "stream",
     "text": [
      "w_jets imported with\n",
      "599 trees!/Madgraph_Simulations/SM_Backgrounds/w_jets/\n",
      "\n",
      "ww imported with\n",
      "250 trees!/Madgraph_Simulations/SM_Backgrounds/ww/\n",
      "\n",
      "wz imported with\n",
      "200 trees!/Madgraph_Simulations/SM_Backgrounds/wz/\n",
      "\n",
      "zz imported with\n",
      "200 trees!/Madgraph_Simulations/SM_Backgrounds/zz/\n",
      "\n",
      "ttbar imported with\n",
      "500 trees!/Madgraph_Simulations/SM_Backgrounds/ttbar/\n",
      "\n",
      "stop imported with\n",
      "232 trees!/Madgraph_Simulations/SM_Backgrounds/stop\n",
      "\n"
     ]
    }
   ],
   "source": [
    "#Carguemos las rutas de cada background y de la señal\n",
    "\n",
    "Paths = {}\n",
    "\n",
    "#Paths .root de señal:\n",
    "\n",
    "signal = f'{personal_folder}/Data_Z/Events'\n",
    "Paths['z'] = []\n",
    "\n",
    "for i in range(1,7):\n",
    "    Paths['z'].append(f'{signal}/run_0{i}/tag_1_delphes_events.root') \n",
    "\n",
    "#Paths .root de backgrounds:\n",
    "\n",
    "BKGs = [\"w_jets\", \"ww\", \"wz\", \"zz\", \"ttbar\", \"stop\"]\n",
    "\n",
    "for BKG in BKGs:\n",
    "    \n",
    "    Delphes_Process = DelphesLoader(BKG) #Se crea un objeto de la clase DelphesLoader correspondiente al proceso BKG\n",
    "    Paths[BKG]= Delphes_Process.Forest #Forest es una función que extrae todas las rutas .root de los procesos BKG que están alojados en el servidor"
   ]
  },
  {
   "cell_type": "markdown",
   "id": "ff1faced-1681-4cab-aab0-7de2bb140799",
   "metadata": {},
   "source": [
    "Así, Paths es un directorio donde están todas las rutas de los .root, simplemente hay que usar sus keys para tener todas las rutas que uno necesite:"
   ]
  },
  {
   "cell_type": "code",
   "execution_count": 3,
   "id": "7e143f0a-b72a-4cf9-a8cb-6fa3817d00dc",
   "metadata": {
    "tags": []
   },
   "outputs": [
    {
     "data": {
      "text/plain": [
       "dict_keys(['z', 'w_jets', 'ww', 'wz', 'zz', 'ttbar', 'stop'])"
      ]
     },
     "execution_count": 3,
     "metadata": {},
     "output_type": "execute_result"
    }
   ],
   "source": [
    "Paths.keys()"
   ]
  },
  {
   "cell_type": "markdown",
   "id": "12ec7c74-f9a8-46d5-a129-aa71172dcb98",
   "metadata": {},
   "source": [
    "**Por ejemplo:**"
   ]
  },
  {
   "cell_type": "code",
   "execution_count": 4,
   "id": "74a3ca9a-87ea-46be-9b85-99067409c0c7",
   "metadata": {},
   "outputs": [
    {
     "data": {
      "text/plain": [
       "['/disco4/personal_folders/Joaquin/Data_Z/Events/run_01/tag_1_delphes_events.root',\n",
       " '/disco4/personal_folders/Joaquin/Data_Z/Events/run_02/tag_1_delphes_events.root',\n",
       " '/disco4/personal_folders/Joaquin/Data_Z/Events/run_03/tag_1_delphes_events.root',\n",
       " '/disco4/personal_folders/Joaquin/Data_Z/Events/run_04/tag_1_delphes_events.root',\n",
       " '/disco4/personal_folders/Joaquin/Data_Z/Events/run_05/tag_1_delphes_events.root',\n",
       " '/disco4/personal_folders/Joaquin/Data_Z/Events/run_06/tag_1_delphes_events.root']"
      ]
     },
     "execution_count": 4,
     "metadata": {},
     "output_type": "execute_result"
    }
   ],
   "source": [
    "Paths['z']"
   ]
  },
  {
   "cell_type": "markdown",
   "id": "9c6fd20a-d323-4899-a0f4-9f5832328f7f",
   "metadata": {},
   "source": [
    "$\\textbf{Leer los archivos .root y crear archivos .csv con la información de interés}$\n",
    "\n",
    "En general uno cada vez que fuera a hacer el análisis cinemático podría leer directamente los archivos .root; sin embargo, estos contienen demasiada información, es más eficiente, leerlos una vez implementando los cortes que uno quiera y construir un archivo .csv con los datos que son de mayor interés, esos archivos .csv son mucho más fáciles de leer.\n",
    "\n",
    "Dicho esto, creemos las carpetas en donde guardaremos esos .csv"
   ]
  },
  {
   "cell_type": "code",
   "execution_count": 5,
   "id": "62e2afa2-74ff-4da2-8091-54fc860170cf",
   "metadata": {},
   "outputs": [],
   "source": [
    "!mkdir -p {personal_folder}/CSV_Z_Analisis/Data_muon0 #Contendrá CSVs con las variables cinemáticas del muón de mayor momento\n",
    "!mkdir -p {personal_folder}/CSV_Z_Analisis/Data_muon1 #Contendrá CSVs con las variables cinemáticas del segundo muón de mayor momento\n",
    "!mkdir -p {personal_folder}/CSV_Z_Analisis/Data_correlation #Contendrá CSVs con las variables cinemáticas que correlacionan ambos muones\n",
    "!mkdir -p {personal_folder}/CSV_Z_Analisis/Data_Z #Contendrá CSVs con las variables cinemáticas que correlacionan ambos muones"
   ]
  },
  {
   "cell_type": "markdown",
   "id": "e81b76ca-213e-4503-bf8b-c3f2d143d3f2",
   "metadata": {},
   "source": [
    "Ahora debemos crear un directorio que nos permita guardar el número de eventos que quedan a medida que se van aplicando cortes a los datos, para esto se puede utilizar lo siguiente: "
   ]
  },
  {
   "cell_type": "code",
   "execution_count": 6,
   "id": "ef3b33ca-7518-4bfb-9072-2b4892be087f",
   "metadata": {},
   "outputs": [],
   "source": [
    "cut_flows = {}\n",
    "cut_flows['Total'] = {}\n",
    "\n",
    "def update_cut_flows(signal, etiqueta):\n",
    "    event_selection.count_event(cut_flows['Total'], etiqueta)\n",
    "    event_selection.count_event(cut_flows[signal], etiqueta) "
   ]
  },
  {
   "cell_type": "markdown",
   "id": "d3babd77-9fbd-4603-bf71-933ab3c030f1",
   "metadata": {},
   "source": [
    "Notemos que aquí se está usando la función count_event definida en Delphes_Reader. Recorramos algunos eventos solo para ver cómo se puede usar todo esto: "
   ]
  },
  {
   "cell_type": "code",
   "execution_count": 7,
   "id": "edd439ca-1c20-4e49-a8f9-87e30178b11e",
   "metadata": {},
   "outputs": [],
   "source": [
    "with Quiet(): #Esto evita que salgan excepciones que usualmente salen en archivos de Delphes\n",
    "\n",
    "    for signal in Paths:\n",
    "        signal_paths = Paths[signal]\n",
    "        cut_flows[signal] = {} #Para cada señal llevaremos el registro de cut_flows\n",
    "\n",
    "        for path in signal_paths:\n",
    "            tree = TChain(\"Delphes;1\") #arbol de datos, ahora debemos añadirle la ruta\n",
    "            tree.Add(path) #Ahora tree es el arbol de datos de la ruta path\n",
    "            \n",
    "            j = 0\n",
    "            for event in tree:\n",
    "                j = j + 1\n",
    "                if(j == 1001): break #Solo se recorren 1000 para practicar en el tutorial\n",
    "                \n",
    "                update_cut_flows(signal, 'Todos') \n",
    "                \n",
    "                muons = get_muons(event) #Lista de los muones de un evento en el arbol\n",
    "                \n",
    "                #Cuts:\n",
    "\n",
    "                if (len(muons) < 2): continue #Se descarta si hay menos de dos muones\n",
    "                update_cut_flows(signal, 'Al menos 2 muones') \n",
    "                                \n",
    "                if(muons[0].GetCharge()*muons[1].GetCharge() > 0): continue #Carga opuesta\n",
    "                update_cut_flows(signal, 'Carga opuesta') \n",
    "                \n",
    "                if (muons[0].pt() < 30): continue \n",
    "                update_cut_flows(signal, 'p_T[0] > 30 GeV') \n",
    "                \n",
    "                if (muons[1].pt() < 20): continue \n",
    "                update_cut_flows(signal, 'p_T[1] > 20 GeV') \n",
    "                \n",
    "            break #Asi solo se corre la primera path de cada señal"
   ]
  },
  {
   "cell_type": "markdown",
   "id": "1bd5d77f-ee49-41f1-a59f-4fd23f3542e0",
   "metadata": {},
   "source": [
    "Así, cut_flows estará dado de la siguiente forma:"
   ]
  },
  {
   "cell_type": "code",
   "execution_count": 8,
   "id": "18e3d14f-d129-43e5-9c48-819ac0cc943e",
   "metadata": {},
   "outputs": [
    {
     "data": {
      "text/html": [
       "<div>\n",
       "<style scoped>\n",
       "    .dataframe tbody tr th:only-of-type {\n",
       "        vertical-align: middle;\n",
       "    }\n",
       "\n",
       "    .dataframe tbody tr th {\n",
       "        vertical-align: top;\n",
       "    }\n",
       "\n",
       "    .dataframe thead th {\n",
       "        text-align: right;\n",
       "    }\n",
       "</style>\n",
       "<table border=\"1\" class=\"dataframe\">\n",
       "  <thead>\n",
       "    <tr style=\"text-align: right;\">\n",
       "      <th></th>\n",
       "      <th>Total</th>\n",
       "      <th>z</th>\n",
       "      <th>w_jets</th>\n",
       "      <th>ww</th>\n",
       "      <th>wz</th>\n",
       "      <th>zz</th>\n",
       "      <th>ttbar</th>\n",
       "      <th>stop</th>\n",
       "    </tr>\n",
       "  </thead>\n",
       "  <tbody>\n",
       "    <tr>\n",
       "      <th>Todos</th>\n",
       "      <td>7000</td>\n",
       "      <td>1000</td>\n",
       "      <td>1000.0</td>\n",
       "      <td>1000</td>\n",
       "      <td>1000</td>\n",
       "      <td>1000</td>\n",
       "      <td>1000</td>\n",
       "      <td>1000</td>\n",
       "    </tr>\n",
       "    <tr>\n",
       "      <th>Al menos 2 muones</th>\n",
       "      <td>747</td>\n",
       "      <td>699</td>\n",
       "      <td>NaN</td>\n",
       "      <td>4</td>\n",
       "      <td>16</td>\n",
       "      <td>22</td>\n",
       "      <td>4</td>\n",
       "      <td>2</td>\n",
       "    </tr>\n",
       "    <tr>\n",
       "      <th>Carga opuesta</th>\n",
       "      <td>745</td>\n",
       "      <td>699</td>\n",
       "      <td>NaN</td>\n",
       "      <td>4</td>\n",
       "      <td>14</td>\n",
       "      <td>22</td>\n",
       "      <td>4</td>\n",
       "      <td>2</td>\n",
       "    </tr>\n",
       "    <tr>\n",
       "      <th>p_T[0] &gt; 30 GeV</th>\n",
       "      <td>672</td>\n",
       "      <td>628</td>\n",
       "      <td>NaN</td>\n",
       "      <td>4</td>\n",
       "      <td>13</td>\n",
       "      <td>22</td>\n",
       "      <td>3</td>\n",
       "      <td>2</td>\n",
       "    </tr>\n",
       "    <tr>\n",
       "      <th>p_T[1] &gt; 20 GeV</th>\n",
       "      <td>644</td>\n",
       "      <td>609</td>\n",
       "      <td>NaN</td>\n",
       "      <td>4</td>\n",
       "      <td>11</td>\n",
       "      <td>16</td>\n",
       "      <td>2</td>\n",
       "      <td>2</td>\n",
       "    </tr>\n",
       "  </tbody>\n",
       "</table>\n",
       "</div>"
      ],
      "text/plain": [
       "                   Total     z  w_jets    ww    wz    zz  ttbar  stop\n",
       "Todos               7000  1000  1000.0  1000  1000  1000   1000  1000\n",
       "Al menos 2 muones    747   699     NaN     4    16    22      4     2\n",
       "Carga opuesta        745   699     NaN     4    14    22      4     2\n",
       "p_T[0] > 30 GeV      672   628     NaN     4    13    22      3     2\n",
       "p_T[1] > 20 GeV      644   609     NaN     4    11    16      2     2"
      ]
     },
     "execution_count": 8,
     "metadata": {},
     "output_type": "execute_result"
    }
   ],
   "source": [
    "pd.DataFrame(cut_flows)"
   ]
  },
  {
   "cell_type": "markdown",
   "id": "ce689e57-86cf-4337-a2a5-3104db519120",
   "metadata": {},
   "source": [
    "Con esto claro, ahora si extraigamos la información cinemática de los muones y guardémosla en archivos CSV."
   ]
  },
  {
   "cell_type": "code",
   "execution_count": 9,
   "id": "c33d1806-0141-4d44-9932-e83038ad62a7",
   "metadata": {},
   "outputs": [],
   "source": [
    "cut_flows = {}\n",
    "cut_flows['Total'] = {}\n",
    "\n",
    "with Quiet(): #Esto evita que salgan excepciones que usualmente salen en archivos de Delphes\n",
    "\n",
    "    for signal in Paths:\n",
    "        signal_paths = Paths[signal]\n",
    "        cut_flows[f'{signal}'] = {} #Para cada señal llevaremos el registro de cut_flows\n",
    "        \n",
    "        #Debemos crear DataFrames donde se pueda guardar la información cinemática de nuestro interés, en este caso corresponde a las variables cinematicas de los dos muones, las variables que los relacionan y las variables del z, la particula reconstruida con esos muones\n",
    "        Data_muon0 = pd.DataFrame()\n",
    "        Data_muon1 = pd.DataFrame()\n",
    "        Data_correlation = pd.DataFrame()\n",
    "        Data_Z = pd.DataFrame()\n",
    "\n",
    "        for path in signal_paths:\n",
    "            tree = TChain(\"Delphes;1\") #arbol de datos, ahora debemos añadirle la ruta\n",
    "            tree.Add(path) #Ahora tree es el arbol de datos de la ruta path\n",
    "            \n",
    "            for event in tree:\n",
    "                update_cut_flows(signal, 'Todos') \n",
    "                \n",
    "                muons = get_muons(event) #Lista de los muones de un evento en el arbol\n",
    "                \n",
    "                #Cuts:\n",
    "\n",
    "                if (len(muons) < 2): continue #Se descarta si hay menos de dos muones\n",
    "                update_cut_flows(signal, 'Al menos 2 muones') \n",
    "                \n",
    "                if (len(muons) != 2): continue #Exactamente 2 muones\n",
    "                update_cut_flows(signal, 'Exactamente 2 muones') \n",
    "                \n",
    "                if(muons[0].GetCharge()*muons[1].GetCharge() > 0): continue #Carga opuesta\n",
    "                update_cut_flows(signal, 'Carga opuesta') \n",
    "                \n",
    "                if (muons[0].pt() < 30): continue \n",
    "                update_cut_flows(signal, 'p_T[0] > 30 GeV') \n",
    "                \n",
    "                if (muons[1].pt() < 20): continue \n",
    "                update_cut_flows(signal, 'p_T[1] > 20 GeV') \n",
    "\n",
    "                if(abs(muons[0].eta()) > 2.4 or abs(muons[1].eta()) > 2.4): continue\n",
    "                update_cut_flows(signal, '|Eta| < 2.4 ') \n",
    "                \n",
    "                if(muons[0].DeltaR(muons[1]) < 0.3): continue\n",
    "                update_cut_flows(signal, 'DeltaR > 0.3') \n",
    "                \n",
    "                #Extraígamos las filas con las variables cinemáticas de cada muon, las variables que los correlacionan, para esto simplemente hay que usar la función get_kinematics_row definida en Delphes_Reader\n",
    "                inf_muon0 = root_analysis.get_kinematics_row(muons[0])\n",
    "                inf_muon1 = root_analysis.get_kinematics_row(muons[1])\n",
    "                inf_correlation = root_analysis.get_kinematics_row(muons[1], muons[0])  \n",
    "                \n",
    "                #Reconstruyamos el z \n",
    "                Z = muons[0].GetTLV() + muons[1].GetTLV() #Extraígamos sus variables cinemáticas, aqui no podemos usar get_kinematics_row debido a que Z no es un elemento de la clase particulas, como tal no esta definido en la clase particulas, es un TLV que tiene las variables cinematicas de la particula reconstruida, por esto, debemos definir nosotros mismos el diccionario:            \n",
    "                inf_Z = {\"pT_{Z}(GeV)\": Z.Pt(), \"#eta_{Z}\": Z.Eta(), \"#phi_{Z}\": Z.Phi(), \"Energy_{Z}(GeV)\": Z.Energy(), \"Mass_{Z}(GeV)\" : Z.M()} #Así queda en el mismo formato que las filas que extrajimos usando get_kinematics_row\n",
    "                                \n",
    "                #Añadamos esas filas a los DataFrames que se crearon en el primer for            \n",
    "                row_muon0 = pd.DataFrame.from_dict(inf_muon0, orient ='index').T\n",
    "                Data_muon0 = pd.concat([Data_muon0, row_muon0])                \n",
    "                row_muon1 = pd.DataFrame.from_dict(inf_muon1, orient ='index').T\n",
    "                Data_muon1 = pd.concat([Data_muon1, row_muon1])                \n",
    "                row_correlation = pd.DataFrame.from_dict(inf_correlation, orient ='index').T\n",
    "                Data_correlation = pd.concat([Data_correlation, row_correlation])\n",
    "                row_Z = pd.DataFrame.from_dict(inf_Z, orient ='index').T\n",
    "                Data_Z = pd.concat([Data_Z, row_Z])                  \n",
    "            \n",
    "            #En este punto ya se recorrieron todos los .root de la señal y se lleno el DataFrame, guardemoslo en un CSV\n",
    "                \n",
    "            Data_muon0.to_csv(f'{personal_folder}/CSV_Z_Analisis/Data_muon0/{signal}.csv')\n",
    "            Data_muon1.to_csv(f'{personal_folder}/CSV_Z_Analisis/Data_muon1/{signal}.csv')\n",
    "            Data_correlation.to_csv(f'{personal_folder}/CSV_Z_Analisis/Data_correlation/{signal}.csv')\n",
    "            Data_Z.to_csv(f'{personal_folder}/CSV_Z_Analisis/Data_Z/{signal}.csv')\n",
    "            #break #Asi solo se corre la primera path de cada señal\n",
    "            \n",
    "!touch CSVs_generados.txt #Testigo de que el código ya acabo de correr            "
   ]
  },
  {
   "cell_type": "markdown",
   "id": "670832c9-1595-42af-b913-f5a314954a3d",
   "metadata": {},
   "source": [
    "Aquí ya se generarán los CSV de los datos, guardemos también el DataFrame con la información de los cortes:"
   ]
  },
  {
   "cell_type": "code",
   "execution_count": 10,
   "id": "a9725765-c116-4cfc-a4ae-33cbb19d619a",
   "metadata": {},
   "outputs": [
    {
     "data": {
      "text/html": [
       "<div>\n",
       "<style scoped>\n",
       "    .dataframe tbody tr th:only-of-type {\n",
       "        vertical-align: middle;\n",
       "    }\n",
       "\n",
       "    .dataframe tbody tr th {\n",
       "        vertical-align: top;\n",
       "    }\n",
       "\n",
       "    .dataframe thead th {\n",
       "        text-align: right;\n",
       "    }\n",
       "</style>\n",
       "<table border=\"1\" class=\"dataframe\">\n",
       "  <thead>\n",
       "    <tr style=\"text-align: right;\">\n",
       "      <th></th>\n",
       "      <th>Total</th>\n",
       "      <th>z</th>\n",
       "      <th>w_jets</th>\n",
       "      <th>ww</th>\n",
       "      <th>wz</th>\n",
       "      <th>zz</th>\n",
       "      <th>ttbar</th>\n",
       "      <th>stop</th>\n",
       "    </tr>\n",
       "  </thead>\n",
       "  <tbody>\n",
       "    <tr>\n",
       "      <th>Todos</th>\n",
       "      <td>89400073</td>\n",
       "      <td>300000</td>\n",
       "      <td>20942823</td>\n",
       "      <td>12500000</td>\n",
       "      <td>9850000</td>\n",
       "      <td>10000000</td>\n",
       "      <td>24307250</td>\n",
       "      <td>11500000</td>\n",
       "    </tr>\n",
       "    <tr>\n",
       "      <th>Al menos 2 muones</th>\n",
       "      <td>936808</td>\n",
       "      <td>210853</td>\n",
       "      <td>104</td>\n",
       "      <td>74404</td>\n",
       "      <td>160145</td>\n",
       "      <td>299277</td>\n",
       "      <td>170215</td>\n",
       "      <td>21810</td>\n",
       "    </tr>\n",
       "    <tr>\n",
       "      <th>Exactamente 2 muones</th>\n",
       "      <td>916832</td>\n",
       "      <td>210828</td>\n",
       "      <td>97</td>\n",
       "      <td>74363</td>\n",
       "      <td>148789</td>\n",
       "      <td>291091</td>\n",
       "      <td>169923</td>\n",
       "      <td>21741</td>\n",
       "    </tr>\n",
       "    <tr>\n",
       "      <th>Carga opuesta</th>\n",
       "      <td>907174</td>\n",
       "      <td>210821</td>\n",
       "      <td>77</td>\n",
       "      <td>74288</td>\n",
       "      <td>142757</td>\n",
       "      <td>289570</td>\n",
       "      <td>168424</td>\n",
       "      <td>21237</td>\n",
       "    </tr>\n",
       "    <tr>\n",
       "      <th>p_T[0] &gt; 30 GeV</th>\n",
       "      <td>853390</td>\n",
       "      <td>190460</td>\n",
       "      <td>26</td>\n",
       "      <td>66691</td>\n",
       "      <td>138989</td>\n",
       "      <td>282760</td>\n",
       "      <td>154900</td>\n",
       "      <td>19564</td>\n",
       "    </tr>\n",
       "    <tr>\n",
       "      <th>p_T[1] &gt; 20 GeV</th>\n",
       "      <td>753660</td>\n",
       "      <td>183580</td>\n",
       "      <td>10</td>\n",
       "      <td>54154</td>\n",
       "      <td>123123</td>\n",
       "      <td>251079</td>\n",
       "      <td>125848</td>\n",
       "      <td>15866</td>\n",
       "    </tr>\n",
       "    <tr>\n",
       "      <th>|Eta| &lt; 2.4</th>\n",
       "      <td>753660</td>\n",
       "      <td>183580</td>\n",
       "      <td>10</td>\n",
       "      <td>54154</td>\n",
       "      <td>123123</td>\n",
       "      <td>251079</td>\n",
       "      <td>125848</td>\n",
       "      <td>15866</td>\n",
       "    </tr>\n",
       "    <tr>\n",
       "      <th>DeltaR &gt; 0.3</th>\n",
       "      <td>751645</td>\n",
       "      <td>183580</td>\n",
       "      <td>6</td>\n",
       "      <td>53657</td>\n",
       "      <td>123001</td>\n",
       "      <td>250981</td>\n",
       "      <td>124738</td>\n",
       "      <td>15682</td>\n",
       "    </tr>\n",
       "  </tbody>\n",
       "</table>\n",
       "</div>"
      ],
      "text/plain": [
       "                         Total       z    w_jets        ww       wz        zz  \\\n",
       "Todos                 89400073  300000  20942823  12500000  9850000  10000000   \n",
       "Al menos 2 muones       936808  210853       104     74404   160145    299277   \n",
       "Exactamente 2 muones    916832  210828        97     74363   148789    291091   \n",
       "Carga opuesta           907174  210821        77     74288   142757    289570   \n",
       "p_T[0] > 30 GeV         853390  190460        26     66691   138989    282760   \n",
       "p_T[1] > 20 GeV         753660  183580        10     54154   123123    251079   \n",
       "|Eta| < 2.4             753660  183580        10     54154   123123    251079   \n",
       "DeltaR > 0.3            751645  183580         6     53657   123001    250981   \n",
       "\n",
       "                         ttbar      stop  \n",
       "Todos                 24307250  11500000  \n",
       "Al menos 2 muones       170215     21810  \n",
       "Exactamente 2 muones    169923     21741  \n",
       "Carga opuesta           168424     21237  \n",
       "p_T[0] > 30 GeV         154900     19564  \n",
       "p_T[1] > 20 GeV         125848     15866  \n",
       "|Eta| < 2.4             125848     15866  \n",
       "DeltaR > 0.3            124738     15682  "
      ]
     },
     "execution_count": 10,
     "metadata": {},
     "output_type": "execute_result"
    }
   ],
   "source": [
    "pd.DataFrame(cut_flows)"
   ]
  },
  {
   "cell_type": "code",
   "execution_count": 11,
   "id": "14102b7b-9743-4158-a43d-3ff2adc60d14",
   "metadata": {},
   "outputs": [],
   "source": [
    "pd.DataFrame(cut_flows).to_csv(f'{personal_folder}/CSV_Z_Analisis/cut_flows.csv')"
   ]
  },
  {
   "cell_type": "markdown",
   "id": "0125696a-9b5d-4912-b875-8529c8c52cc4",
   "metadata": {},
   "source": [
    "Lo realizado a lo largo de este capítulo puede ocupar bastante tiempo, por eso es importante generar los archivos .csv, puesto que estos se leen mucho más rápido que los .root "
   ]
  }
 ],
 "metadata": {
  "kernelspec": {
   "display_name": "Python 3 (ipykernel)",
   "language": "python",
   "name": "python3"
  },
  "language_info": {
   "codemirror_mode": {
    "name": "ipython",
    "version": 3
   },
   "file_extension": ".py",
   "mimetype": "text/x-python",
   "name": "python",
   "nbconvert_exporter": "python",
   "pygments_lexer": "ipython3",
   "version": "3.10.6"
  },
  "toc-autonumbering": false
 },
 "nbformat": 4,
 "nbformat_minor": 5
}
