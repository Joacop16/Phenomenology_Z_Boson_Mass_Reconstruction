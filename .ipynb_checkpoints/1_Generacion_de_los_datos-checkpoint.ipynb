{
 "cells": [
  {
   "cell_type": "markdown",
   "id": "a2ec2cc0-ba12-44d1-bc6e-4555b0531cf5",
   "metadata": {},
   "source": [
    "$$\\textrm{Joaquin Peñuela Parra}$$\n",
    "$$\\textrm{Universidad de los Andes}$$\n",
    "$$\\textrm{Grupo de Física de Altas Energías: Fenomenología de Partículas}$$\n",
    "\n",
    "Este código fue corrido en el docker del grupo de fenomenología.\n",
    "\n",
    "$\\textbf{Preliminares}$ \n",
    "\n",
    "Las librerías que se usan en este capítulo son las siguientes: "
   ]
  },
  {
   "cell_type": "code",
   "execution_count": 1,
   "id": "5739798b-6497-4ad2-a8a1-cdcdde2f8989",
   "metadata": {},
   "outputs": [],
   "source": [
    "import os, sys\n",
    "import numpy as np\n",
    "\n",
    "personal_folder = os.getcwd()"
   ]
  },
  {
   "cell_type": "markdown",
   "id": "1a742a1d-ca5f-4ca1-b9a6-2c48831bb1cc",
   "metadata": {},
   "source": [
    "$\\textbf{Crear la carpeta del output de MadGraph}$ \n",
    "\n",
    "Inicialmente es necesario crear la carpeta donde se guardarán los datos (outputs) del proceso, para esto hay que escribir un script con las siguientes líneas: \n",
    "\n",
    "- generate p p > z > mu+ mu- \n",
    "\n",
    "- output /disco4/personal_folders/Joaquin/Data_Z -no-jpeg \n",
    "\n",
    "Esto se podría hacer como siempre, sin embargo, es una buena oportunidad para escribir scripts desde python y tratar de hacer todo desde acá: "
   ]
  },
  {
   "cell_type": "code",
   "execution_count": 2,
   "id": "64119c27-669c-4cf4-9108-b04fcaf45d6a",
   "metadata": {
    "tags": []
   },
   "outputs": [],
   "source": [
    "lineas_definiciones = [\"generate p p > z > mu+ mu-\"]\n",
    "lineas_outputs = [f\"output {personal_folder}/Data_Z -no-jpeg\"]\n",
    "\n",
    "lineas = np.concatenate((lineas_definiciones, lineas_outputs))\n",
    "\n",
    "script = open ('Folder_Data_Z.txt','w')\n",
    "script.write(lineas[0])\n",
    "\n",
    "for i in range(1,len(lineas)):\n",
    "    script.write('\\n' + lineas[i])\n",
    "script.close()"
   ]
  },
  {
   "cell_type": "markdown",
   "id": "510fa7ba-370a-4c12-b8be-055ba4d8b4da",
   "metadata": {},
   "source": [
    "Veamos que efectivamente se creó el script que queríamos:"
   ]
  },
  {
   "cell_type": "code",
   "execution_count": 3,
   "id": "c05d6569-2da0-425e-b890-18b9172b9cc2",
   "metadata": {},
   "outputs": [
    {
     "name": "stdout",
     "output_type": "stream",
     "text": [
      "generate p p > z > mu+ mu-\n",
      "output /disco4/personal_folders/Joaquin/Data_Z -no-jpeg"
     ]
    }
   ],
   "source": [
    "!cat Folder_Data_Z.txt"
   ]
  },
  {
   "cell_type": "markdown",
   "id": "8ccddd2c-e856-4280-ab69-68293a576dde",
   "metadata": {},
   "source": [
    "Ahora es necesario correr el script, para hacerlo desde jupyter notebook hay que usar el siguiente comando:"
   ]
  },
  {
   "cell_type": "code",
   "execution_count": null,
   "id": "cc801973-1553-4ed3-9426-31935319807d",
   "metadata": {
    "tags": []
   },
   "outputs": [],
   "source": [
    "!./../../../../Collider/MG5_aMC_v3_1_0/bin/mg5_aMC Folder_Data_Z.txt\n",
    "!rm Folder_Data_Z.txt #Borramos el script porque ya lo usamos"
   ]
  },
  {
   "cell_type": "markdown",
   "id": "058635c1-59ff-494f-88c8-20efd01df0f6",
   "metadata": {},
   "source": [
    "$\\textbf{Generar eventos usando MadGraph}$\n",
    "\n",
    "Supongamos que queremos generar 300k de eventos con algunos parámetros, normalmente se tendrían que hacer varios scripts para generarlos en grupos de a 50K; sin embargo, otra forma es haciendo los scripts desde python y usar un for, eso es lo que haremos. \n",
    "\n",
    "Sin embargo, es importante crear una función que nos permita usar una semilla distinta en cada run del proceso:"
   ]
  },
  {
   "cell_type": "code",
   "execution_count": null,
   "id": "806c78e4-ce90-4c87-9f30-f30238625581",
   "metadata": {},
   "outputs": [],
   "source": [
    "seeds = [] #Arreglo donde guardaremos todas las semillas\n",
    "\n",
    "def semilla():\n",
    "    seed = np.random.randint(1,5000)\n",
    "    if (seed in seeds):\n",
    "        return semilla()\n",
    "    return seed"
   ]
  },
  {
   "cell_type": "code",
   "execution_count": null,
   "id": "8b909cd5-40fe-40f0-bfe7-da02667ae82f",
   "metadata": {
    "tags": []
   },
   "outputs": [],
   "source": [
    "for k in range(0,6): #Se corre 6 veces para garantizar que hayan 6 \"runs\" con 50000 eventos, es decir, 300000 eventos  \n",
    "    \n",
    "    #Primero calculemos la semilla que usaremos en este run:\n",
    "    seed = semilla()\n",
    "    seeds.append(seed)\n",
    "    \n",
    "    #Ahora creemos un script temporal para correrlo con MadGraph    \n",
    "    nombre_script = 'generate_data_z.txt'  \n",
    "    script = open (nombre_script,'w')\n",
    "\n",
    "    launch = f\"launch {personal_folder}/Data_Z -m\"\n",
    "    nodos = \"10\"\n",
    "    shower = \"shower = Pythia8\"\n",
    "    detector = \"detector = Delphes\"\n",
    "    done = \"done\"\n",
    "    param1 = \"set iseed \" + str(seed) #Semilla\n",
    "    param2 = \"set nevents 50000\"\n",
    "\n",
    "    lineas = [launch,nodos,shower,detector,done,param1, param2]\n",
    "\n",
    "    script.write(lineas[0])\n",
    "    for k in range(1,len(lineas)):    \n",
    "        script.write('\\n' + lineas[k])\n",
    "    script.close()\n",
    "\n",
    "    !./../../../../Collider/MG5_aMC_v3_1_0/bin/mg5_aMC {nombre_script} #Se corre el script temporal con MadGraph para generar los datos\n",
    "    !rm {nombre_script} #Se borra el script temporal"
   ]
  },
  {
   "cell_type": "markdown",
   "id": "65373ed9-64ec-4307-8430-d3bac1beb243",
   "metadata": {},
   "source": [
    "Es importante dejar un archivo como testigo que permita saber cuándo el código de arriba ya acabo de correr, así nos aseguramos de que todo el código se corra adecuadamente: "
   ]
  },
  {
   "cell_type": "code",
   "execution_count": null,
   "id": "4f3ceba5-685b-4e4f-b2c3-03b2d4a21452",
   "metadata": {},
   "outputs": [],
   "source": [
    "!touch Data_Z_generada.txt "
   ]
  },
  {
   "cell_type": "markdown",
   "id": "0a582a4c-48ba-4a23-97b7-89d3abfcf2a2",
   "metadata": {},
   "source": [
    "En este punto ya se simuló la señal que se quiere estudiar, ahora uno podría pensar en generar datos para el background; sin embargo, para propósitos de este tutorial usaremos datos de background que ya están en el servidor. "
   ]
  }
 ],
 "metadata": {
  "kernelspec": {
   "display_name": "Python 3 (ipykernel)",
   "language": "python",
   "name": "python3"
  },
  "language_info": {
   "codemirror_mode": {
    "name": "ipython",
    "version": 3
   },
   "file_extension": ".py",
   "mimetype": "text/x-python",
   "name": "python",
   "nbconvert_exporter": "python",
   "pygments_lexer": "ipython3",
   "version": "3.10.6"
  },
  "toc-autonumbering": false,
  "toc-showtags": false
 },
 "nbformat": 4,
 "nbformat_minor": 5
}
